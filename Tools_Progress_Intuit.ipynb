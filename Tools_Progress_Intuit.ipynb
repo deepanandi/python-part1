{
 "cells": [
  {
   "cell_type": "code",
   "execution_count": 27,
   "id": "ac70bf45-aef5-4936-9fa6-53a8e8e48b30",
   "metadata": {
    "tags": []
   },
   "outputs": [],
   "source": [
    "import numpy as np\n",
    "import pandas as pd\n",
    "\n",
    "import matplotlib.pyplot as plt\n",
    "import seaborn as sns\n",
    "\n",
    "%matplotlib inline\n",
    "\n",
    "df = pd.read_csv('/Users/dnandi/Documents/Tools FY24 Jira/Intuit JIRA 2023-10-18T14_39_00-0700.csv')\n",
    "octResolvedIssues = pd.read_csv('/Users/dnandi/Documents/Tools FY24 Jira/FY24 Issues resolved October.csv')"
   ]
  },
  {
   "cell_type": "code",
   "execution_count": 3,
   "id": "fe1aa1a9-8710-4935-83d8-80cd7b18a9cb",
   "metadata": {
    "tags": []
   },
   "outputs": [
    {
     "data": {
      "text/html": [
       "<div>\n",
       "<style scoped>\n",
       "    .dataframe tbody tr th:only-of-type {\n",
       "        vertical-align: middle;\n",
       "    }\n",
       "\n",
       "    .dataframe tbody tr th {\n",
       "        vertical-align: top;\n",
       "    }\n",
       "\n",
       "    .dataframe thead th {\n",
       "        text-align: right;\n",
       "    }\n",
       "</style>\n",
       "<table border=\"1\" class=\"dataframe\">\n",
       "  <thead>\n",
       "    <tr style=\"text-align: right;\">\n",
       "      <th></th>\n",
       "      <th>Issue key</th>\n",
       "      <th>Issue id</th>\n",
       "      <th>Summary</th>\n",
       "      <th>Updated</th>\n",
       "      <th>Assignee</th>\n",
       "      <th>Created</th>\n",
       "      <th>Custom field (Epic Name)</th>\n",
       "      <th>Resolution</th>\n",
       "      <th>Custom field (Completed Story Points)</th>\n",
       "      <th>Custom field (Total Story Points)</th>\n",
       "    </tr>\n",
       "  </thead>\n",
       "  <tbody>\n",
       "    <tr>\n",
       "      <th>0</th>\n",
       "      <td>ATETOOLS-831</td>\n",
       "      <td>7756526</td>\n",
       "      <td>Workstation Setup - Do it for Me</td>\n",
       "      <td>16/Aug/23 12:07 PM</td>\n",
       "      <td>tjohnson1</td>\n",
       "      <td>16/Aug/23 12:06 PM</td>\n",
       "      <td>Workstation Setup</td>\n",
       "      <td>NaN</td>\n",
       "      <td>0.0</td>\n",
       "      <td>1.0</td>\n",
       "    </tr>\n",
       "    <tr>\n",
       "      <th>1</th>\n",
       "      <td>ATETOOLS-748</td>\n",
       "      <td>7579792</td>\n",
       "      <td>Stories for publishing ATE Tax Content artifac...</td>\n",
       "      <td>18/Sep/23 6:21 PM</td>\n",
       "      <td>tjohnson1</td>\n",
       "      <td>27/Jun/23 6:05 AM</td>\n",
       "      <td>WU: Publish</td>\n",
       "      <td>NaN</td>\n",
       "      <td>14.0</td>\n",
       "      <td>20.0</td>\n",
       "    </tr>\n",
       "    <tr>\n",
       "      <th>2</th>\n",
       "      <td>ATETOOLS-841</td>\n",
       "      <td>7772817</td>\n",
       "      <td>Stories that cover the MAPCD UI, Service and DB</td>\n",
       "      <td>18/Oct/23 9:07 AM</td>\n",
       "      <td>tjohnson1</td>\n",
       "      <td>22/Aug/23 12:02 PM</td>\n",
       "      <td>WU: MAPCD</td>\n",
       "      <td>NaN</td>\n",
       "      <td>25.0</td>\n",
       "      <td>29.0</td>\n",
       "    </tr>\n",
       "    <tr>\n",
       "      <th>3</th>\n",
       "      <td>ATETOOLS-838</td>\n",
       "      <td>7771551</td>\n",
       "      <td>Web Updates: Installer for Web Updates, OnDemand</td>\n",
       "      <td>18/Oct/23 8:49 AM</td>\n",
       "      <td>tjohnson1</td>\n",
       "      <td>22/Aug/23 7:45 AM</td>\n",
       "      <td>WU: Installer</td>\n",
       "      <td>NaN</td>\n",
       "      <td>0.0</td>\n",
       "      <td>2.0</td>\n",
       "    </tr>\n",
       "    <tr>\n",
       "      <th>4</th>\n",
       "      <td>CSRM-86</td>\n",
       "      <td>7414509</td>\n",
       "      <td>Upgrade the database from MySQL to PostgreSQL</td>\n",
       "      <td>29/Aug/23 7:39 AM</td>\n",
       "      <td>tjohnson1</td>\n",
       "      <td>23/May/23 5:05 AM</td>\n",
       "      <td>Tier 2 DB</td>\n",
       "      <td>NaN</td>\n",
       "      <td>11.0</td>\n",
       "      <td>18.0</td>\n",
       "    </tr>\n",
       "    <tr>\n",
       "      <th>5</th>\n",
       "      <td>ATETOOLS-186</td>\n",
       "      <td>6375645</td>\n",
       "      <td>Tech Debt: FY23 - High Priority issues with at...</td>\n",
       "      <td>01/Aug/23 6:05 AM</td>\n",
       "      <td>tjohnson1</td>\n",
       "      <td>11/May/22 9:08 AM</td>\n",
       "      <td>Tech Debt: FY23</td>\n",
       "      <td>NaN</td>\n",
       "      <td>20.0</td>\n",
       "      <td>20.0</td>\n",
       "    </tr>\n",
       "    <tr>\n",
       "      <th>6</th>\n",
       "      <td>ATETOOLS-631</td>\n",
       "      <td>7218442</td>\n",
       "      <td>Stories for Detail conversion and DB2Detail.</td>\n",
       "      <td>14/Aug/23 1:35 PM</td>\n",
       "      <td>tjohnson1</td>\n",
       "      <td>23/Mar/23 2:36 PM</td>\n",
       "      <td>TY23 Client Detail</td>\n",
       "      <td>NaN</td>\n",
       "      <td>19.0</td>\n",
       "      <td>19.0</td>\n",
       "    </tr>\n",
       "    <tr>\n",
       "      <th>7</th>\n",
       "      <td>ATETOOLS-346</td>\n",
       "      <td>6588111</td>\n",
       "      <td>Support: FY-23</td>\n",
       "      <td>03/Oct/23 12:28 PM</td>\n",
       "      <td>tjohnson1</td>\n",
       "      <td>02/Aug/22 2:36 PM</td>\n",
       "      <td>Support: FY-23</td>\n",
       "      <td>NaN</td>\n",
       "      <td>154.0</td>\n",
       "      <td>163.0</td>\n",
       "    </tr>\n",
       "    <tr>\n",
       "      <th>8</th>\n",
       "      <td>CSRM-72</td>\n",
       "      <td>6479332</td>\n",
       "      <td>Support CSRM: FY23</td>\n",
       "      <td>26/Sep/23 9:17 AM</td>\n",
       "      <td>tjohnson1</td>\n",
       "      <td>27/Jun/22 11:57 AM</td>\n",
       "      <td>Support CSRM: FY23</td>\n",
       "      <td>NaN</td>\n",
       "      <td>11.0</td>\n",
       "      <td>15.0</td>\n",
       "    </tr>\n",
       "    <tr>\n",
       "      <th>9</th>\n",
       "      <td>ATETOOLS-803</td>\n",
       "      <td>7706967</td>\n",
       "      <td>Epic for capturing RTB for ATETOOLS</td>\n",
       "      <td>04/Oct/23 2:09 PM</td>\n",
       "      <td>tjohnson1</td>\n",
       "      <td>01/Aug/23 6:16 AM</td>\n",
       "      <td>RTB: FY24</td>\n",
       "      <td>NaN</td>\n",
       "      <td>14.0</td>\n",
       "      <td>25.0</td>\n",
       "    </tr>\n",
       "    <tr>\n",
       "      <th>10</th>\n",
       "      <td>ATETOOLS-79</td>\n",
       "      <td>6166045</td>\n",
       "      <td>Pro Forma / Organizer</td>\n",
       "      <td>13/Sep/22 5:47 AM</td>\n",
       "      <td>NaN</td>\n",
       "      <td>11/Feb/22 5:30 AM</td>\n",
       "      <td>Pro Forma / Organizer</td>\n",
       "      <td>NaN</td>\n",
       "      <td>2.0</td>\n",
       "      <td>2.0</td>\n",
       "    </tr>\n",
       "    <tr>\n",
       "      <th>11</th>\n",
       "      <td>ATETOOLS-629</td>\n",
       "      <td>7218425</td>\n",
       "      <td>Stories for moving OSI development to a newer IDE</td>\n",
       "      <td>09/May/23 5:13 AM</td>\n",
       "      <td>tjohnson1</td>\n",
       "      <td>23/Mar/23 2:25 PM</td>\n",
       "      <td>OSI Upgrade</td>\n",
       "      <td>NaN</td>\n",
       "      <td>3.0</td>\n",
       "      <td>3.0</td>\n",
       "    </tr>\n",
       "    <tr>\n",
       "      <th>12</th>\n",
       "      <td>ATETOOLS-789</td>\n",
       "      <td>7700010</td>\n",
       "      <td>Epic for Updating ACE Tools that read/write to...</td>\n",
       "      <td>29/Aug/23 8:29 AM</td>\n",
       "      <td>tjohnson1</td>\n",
       "      <td>30/Jul/23 2:18 PM</td>\n",
       "      <td>Lacerte2GitHub</td>\n",
       "      <td>NaN</td>\n",
       "      <td>10.0</td>\n",
       "      <td>10.0</td>\n",
       "    </tr>\n",
       "    <tr>\n",
       "      <th>13</th>\n",
       "      <td>ATETOOLS-699</td>\n",
       "      <td>7438681</td>\n",
       "      <td>Upgrading to Java 11</td>\n",
       "      <td>11/Sep/23 12:04 PM</td>\n",
       "      <td>tjohnson1</td>\n",
       "      <td>31/May/23 7:36 AM</td>\n",
       "      <td>Java 11</td>\n",
       "      <td>NaN</td>\n",
       "      <td>11.0</td>\n",
       "      <td>16.0</td>\n",
       "    </tr>\n",
       "    <tr>\n",
       "      <th>14</th>\n",
       "      <td>ATETOOLS-686</td>\n",
       "      <td>7374164</td>\n",
       "      <td>Captures ACE effort for assisting in the Ident...</td>\n",
       "      <td>30/Aug/23 8:21 AM</td>\n",
       "      <td>tjohnson1</td>\n",
       "      <td>09/May/23 7:39 AM</td>\n",
       "      <td>Identity 2.0</td>\n",
       "      <td>NaN</td>\n",
       "      <td>27.0</td>\n",
       "      <td>27.0</td>\n",
       "    </tr>\n",
       "    <tr>\n",
       "      <th>15</th>\n",
       "      <td>ATETOOLS-443</td>\n",
       "      <td>6747798</td>\n",
       "      <td>GitHub V.2 - New Features and Improvements in ...</td>\n",
       "      <td>07/Sep/23 7:48 AM</td>\n",
       "      <td>tjohnson1</td>\n",
       "      <td>04/Oct/22 8:41 AM</td>\n",
       "      <td>GitHub V.2</td>\n",
       "      <td>NaN</td>\n",
       "      <td>3.0</td>\n",
       "      <td>6.0</td>\n",
       "    </tr>\n",
       "    <tr>\n",
       "      <th>16</th>\n",
       "      <td>ATETOOLS-681</td>\n",
       "      <td>7364866</td>\n",
       "      <td>Improve EForms experience</td>\n",
       "      <td>13/Oct/23 4:31 PM</td>\n",
       "      <td>tjohnson1</td>\n",
       "      <td>05/May/23 5:31 AM</td>\n",
       "      <td>EForms</td>\n",
       "      <td>NaN</td>\n",
       "      <td>1.0</td>\n",
       "      <td>7.0</td>\n",
       "    </tr>\n",
       "    <tr>\n",
       "      <th>17</th>\n",
       "      <td>ATETOOLS-396</td>\n",
       "      <td>6672513</td>\n",
       "      <td>BAR UX &amp; Service improvements</td>\n",
       "      <td>27/Jun/23 5:51 AM</td>\n",
       "      <td>tjohnson1</td>\n",
       "      <td>06/Sep/22 7:59 AM</td>\n",
       "      <td>BAR</td>\n",
       "      <td>NaN</td>\n",
       "      <td>28.0</td>\n",
       "      <td>32.0</td>\n",
       "    </tr>\n",
       "    <tr>\n",
       "      <th>18</th>\n",
       "      <td>ATETOOLS-460</td>\n",
       "      <td>6785698</td>\n",
       "      <td>ATE-Bridge</td>\n",
       "      <td>19/Oct/22 8:06 AM</td>\n",
       "      <td>tjohnson1</td>\n",
       "      <td>18/Oct/22 12:08 PM</td>\n",
       "      <td>ATE-Bridge</td>\n",
       "      <td>NaN</td>\n",
       "      <td>1.0</td>\n",
       "      <td>1.0</td>\n",
       "    </tr>\n",
       "    <tr>\n",
       "      <th>19</th>\n",
       "      <td>ATETOOLS-261</td>\n",
       "      <td>6453145</td>\n",
       "      <td>ATE JOE/JOE Regressions</td>\n",
       "      <td>13/Sep/23 1:29 PM</td>\n",
       "      <td>tjohnson1</td>\n",
       "      <td>14/Jun/22 11:40 AM</td>\n",
       "      <td>ATE JOE/JOE</td>\n",
       "      <td>NaN</td>\n",
       "      <td>20.0</td>\n",
       "      <td>24.0</td>\n",
       "    </tr>\n",
       "    <tr>\n",
       "      <th>20</th>\n",
       "      <td>ATETOOLS-817</td>\n",
       "      <td>7749780</td>\n",
       "      <td>Stories for 1040 Mapping for ATE</td>\n",
       "      <td>14/Aug/23 2:53 PM</td>\n",
       "      <td>tjohnson1</td>\n",
       "      <td>14/Aug/23 1:02 PM</td>\n",
       "      <td>1040 IDX Mapping</td>\n",
       "      <td>NaN</td>\n",
       "      <td>3.0</td>\n",
       "      <td>3.0</td>\n",
       "    </tr>\n",
       "  </tbody>\n",
       "</table>\n",
       "</div>"
      ],
      "text/plain": [
       "       Issue key  Issue id                                            Summary  \\\n",
       "0   ATETOOLS-831   7756526                   Workstation Setup - Do it for Me   \n",
       "1   ATETOOLS-748   7579792  Stories for publishing ATE Tax Content artifac...   \n",
       "2   ATETOOLS-841   7772817    Stories that cover the MAPCD UI, Service and DB   \n",
       "3   ATETOOLS-838   7771551   Web Updates: Installer for Web Updates, OnDemand   \n",
       "4        CSRM-86   7414509      Upgrade the database from MySQL to PostgreSQL   \n",
       "5   ATETOOLS-186   6375645  Tech Debt: FY23 - High Priority issues with at...   \n",
       "6   ATETOOLS-631   7218442       Stories for Detail conversion and DB2Detail.   \n",
       "7   ATETOOLS-346   6588111                                     Support: FY-23   \n",
       "8        CSRM-72   6479332                                 Support CSRM: FY23   \n",
       "9   ATETOOLS-803   7706967                Epic for capturing RTB for ATETOOLS   \n",
       "10   ATETOOLS-79   6166045                              Pro Forma / Organizer   \n",
       "11  ATETOOLS-629   7218425  Stories for moving OSI development to a newer IDE   \n",
       "12  ATETOOLS-789   7700010  Epic for Updating ACE Tools that read/write to...   \n",
       "13  ATETOOLS-699   7438681                               Upgrading to Java 11   \n",
       "14  ATETOOLS-686   7374164  Captures ACE effort for assisting in the Ident...   \n",
       "15  ATETOOLS-443   6747798  GitHub V.2 - New Features and Improvements in ...   \n",
       "16  ATETOOLS-681   7364866                          Improve EForms experience   \n",
       "17  ATETOOLS-396   6672513                      BAR UX & Service improvements   \n",
       "18  ATETOOLS-460   6785698                                         ATE-Bridge   \n",
       "19  ATETOOLS-261   6453145                            ATE JOE/JOE Regressions   \n",
       "20  ATETOOLS-817   7749780                   Stories for 1040 Mapping for ATE   \n",
       "\n",
       "               Updated   Assignee             Created  \\\n",
       "0   16/Aug/23 12:07 PM  tjohnson1  16/Aug/23 12:06 PM   \n",
       "1    18/Sep/23 6:21 PM  tjohnson1   27/Jun/23 6:05 AM   \n",
       "2    18/Oct/23 9:07 AM  tjohnson1  22/Aug/23 12:02 PM   \n",
       "3    18/Oct/23 8:49 AM  tjohnson1   22/Aug/23 7:45 AM   \n",
       "4    29/Aug/23 7:39 AM  tjohnson1   23/May/23 5:05 AM   \n",
       "5    01/Aug/23 6:05 AM  tjohnson1   11/May/22 9:08 AM   \n",
       "6    14/Aug/23 1:35 PM  tjohnson1   23/Mar/23 2:36 PM   \n",
       "7   03/Oct/23 12:28 PM  tjohnson1   02/Aug/22 2:36 PM   \n",
       "8    26/Sep/23 9:17 AM  tjohnson1  27/Jun/22 11:57 AM   \n",
       "9    04/Oct/23 2:09 PM  tjohnson1   01/Aug/23 6:16 AM   \n",
       "10   13/Sep/22 5:47 AM        NaN   11/Feb/22 5:30 AM   \n",
       "11   09/May/23 5:13 AM  tjohnson1   23/Mar/23 2:25 PM   \n",
       "12   29/Aug/23 8:29 AM  tjohnson1   30/Jul/23 2:18 PM   \n",
       "13  11/Sep/23 12:04 PM  tjohnson1   31/May/23 7:36 AM   \n",
       "14   30/Aug/23 8:21 AM  tjohnson1   09/May/23 7:39 AM   \n",
       "15   07/Sep/23 7:48 AM  tjohnson1   04/Oct/22 8:41 AM   \n",
       "16   13/Oct/23 4:31 PM  tjohnson1   05/May/23 5:31 AM   \n",
       "17   27/Jun/23 5:51 AM  tjohnson1   06/Sep/22 7:59 AM   \n",
       "18   19/Oct/22 8:06 AM  tjohnson1  18/Oct/22 12:08 PM   \n",
       "19   13/Sep/23 1:29 PM  tjohnson1  14/Jun/22 11:40 AM   \n",
       "20   14/Aug/23 2:53 PM  tjohnson1   14/Aug/23 1:02 PM   \n",
       "\n",
       "   Custom field (Epic Name)  Resolution  \\\n",
       "0         Workstation Setup         NaN   \n",
       "1               WU: Publish         NaN   \n",
       "2                 WU: MAPCD         NaN   \n",
       "3             WU: Installer         NaN   \n",
       "4                 Tier 2 DB         NaN   \n",
       "5           Tech Debt: FY23         NaN   \n",
       "6        TY23 Client Detail         NaN   \n",
       "7            Support: FY-23         NaN   \n",
       "8        Support CSRM: FY23         NaN   \n",
       "9                 RTB: FY24         NaN   \n",
       "10    Pro Forma / Organizer         NaN   \n",
       "11              OSI Upgrade         NaN   \n",
       "12           Lacerte2GitHub         NaN   \n",
       "13                  Java 11         NaN   \n",
       "14             Identity 2.0         NaN   \n",
       "15               GitHub V.2         NaN   \n",
       "16                   EForms         NaN   \n",
       "17                      BAR         NaN   \n",
       "18               ATE-Bridge         NaN   \n",
       "19              ATE JOE/JOE         NaN   \n",
       "20         1040 IDX Mapping         NaN   \n",
       "\n",
       "    Custom field (Completed Story Points)  Custom field (Total Story Points)  \n",
       "0                                     0.0                                1.0  \n",
       "1                                    14.0                               20.0  \n",
       "2                                    25.0                               29.0  \n",
       "3                                     0.0                                2.0  \n",
       "4                                    11.0                               18.0  \n",
       "5                                    20.0                               20.0  \n",
       "6                                    19.0                               19.0  \n",
       "7                                   154.0                              163.0  \n",
       "8                                    11.0                               15.0  \n",
       "9                                    14.0                               25.0  \n",
       "10                                    2.0                                2.0  \n",
       "11                                    3.0                                3.0  \n",
       "12                                   10.0                               10.0  \n",
       "13                                   11.0                               16.0  \n",
       "14                                   27.0                               27.0  \n",
       "15                                    3.0                                6.0  \n",
       "16                                    1.0                                7.0  \n",
       "17                                   28.0                               32.0  \n",
       "18                                    1.0                                1.0  \n",
       "19                                   20.0                               24.0  \n",
       "20                                    3.0                                3.0  "
      ]
     },
     "execution_count": 3,
     "metadata": {},
     "output_type": "execute_result"
    }
   ],
   "source": [
    "df.head(21)"
   ]
  },
  {
   "cell_type": "code",
   "execution_count": 55,
   "id": "0c33cd40-9242-483b-99aa-8d30045da357",
   "metadata": {
    "tags": []
   },
   "outputs": [
    {
     "data": {
      "text/plain": [
       "(21, 10)"
      ]
     },
     "execution_count": 55,
     "metadata": {},
     "output_type": "execute_result"
    }
   ],
   "source": [
    "df.shape"
   ]
  },
  {
   "cell_type": "code",
   "execution_count": 7,
   "id": "e14cd038-c4de-4602-ad53-01f42299eaa0",
   "metadata": {
    "tags": []
   },
   "outputs": [
    {
     "name": "stdout",
     "output_type": "stream",
     "text": [
      "<class 'pandas.core.frame.DataFrame'>\n",
      "RangeIndex: 21 entries, 0 to 20\n",
      "Data columns (total 11 columns):\n",
      " #   Column                  Non-Null Count  Dtype  \n",
      "---  ------                  --------------  -----  \n",
      " 0   Issue key               21 non-null     object \n",
      " 1   Issue id                21 non-null     int64  \n",
      " 2   Summary                 21 non-null     object \n",
      " 3   Updated                 21 non-null     object \n",
      " 4   Assignee                20 non-null     object \n",
      " 5   Created                 21 non-null     object \n",
      " 6   Epic Name               21 non-null     object \n",
      " 7   Resolution              0 non-null      float64\n",
      " 8   Completed Story Points  21 non-null     float64\n",
      " 9   Total Story Points      21 non-null     float64\n",
      " 10  Percentage Complete     21 non-null     float64\n",
      "dtypes: float64(4), int64(1), object(6)\n",
      "memory usage: 1.9+ KB\n",
      "<class 'pandas.core.frame.DataFrame'>\n",
      "RangeIndex: 21 entries, 0 to 20\n",
      "Data columns (total 11 columns):\n",
      " #   Column                  Non-Null Count  Dtype  \n",
      "---  ------                  --------------  -----  \n",
      " 0   Issue key               21 non-null     object \n",
      " 1   Issue id                21 non-null     int64  \n",
      " 2   Summary                 21 non-null     object \n",
      " 3   Updated                 21 non-null     object \n",
      " 4   Assignee                20 non-null     object \n",
      " 5   Created                 21 non-null     object \n",
      " 6   Epic Name               21 non-null     object \n",
      " 7   Resolution              0 non-null      float64\n",
      " 8   Completed Story Points  21 non-null     float64\n",
      " 9   Total Story Points      21 non-null     float64\n",
      " 10  Percentage Complete     21 non-null     float64\n",
      "dtypes: float64(4), int64(1), object(6)\n",
      "memory usage: 1.9+ KB\n"
     ]
    },
    {
     "data": {
      "text/html": [
       "<div>\n",
       "<style scoped>\n",
       "    .dataframe tbody tr th:only-of-type {\n",
       "        vertical-align: middle;\n",
       "    }\n",
       "\n",
       "    .dataframe tbody tr th {\n",
       "        vertical-align: top;\n",
       "    }\n",
       "\n",
       "    .dataframe thead th {\n",
       "        text-align: right;\n",
       "    }\n",
       "</style>\n",
       "<table border=\"1\" class=\"dataframe\">\n",
       "  <thead>\n",
       "    <tr style=\"text-align: right;\">\n",
       "      <th></th>\n",
       "      <th>Issue key</th>\n",
       "      <th>Issue id</th>\n",
       "      <th>Summary</th>\n",
       "      <th>Updated</th>\n",
       "      <th>Assignee</th>\n",
       "      <th>Created</th>\n",
       "      <th>Epic Name</th>\n",
       "      <th>Resolution</th>\n",
       "      <th>Completed Story Points</th>\n",
       "      <th>Total Story Points</th>\n",
       "      <th>Percentage Complete</th>\n",
       "    </tr>\n",
       "  </thead>\n",
       "  <tbody>\n",
       "    <tr>\n",
       "      <th>0</th>\n",
       "      <td>ATETOOLS-831</td>\n",
       "      <td>7756526</td>\n",
       "      <td>Workstation Setup - Do it for Me</td>\n",
       "      <td>16/Aug/23 12:07 PM</td>\n",
       "      <td>tjohnson1</td>\n",
       "      <td>16/Aug/23 12:06 PM</td>\n",
       "      <td>Workstation Setup</td>\n",
       "      <td>NaN</td>\n",
       "      <td>0.0</td>\n",
       "      <td>1.0</td>\n",
       "      <td>0.00</td>\n",
       "    </tr>\n",
       "    <tr>\n",
       "      <th>1</th>\n",
       "      <td>ATETOOLS-748</td>\n",
       "      <td>7579792</td>\n",
       "      <td>Stories for publishing ATE Tax Content artifac...</td>\n",
       "      <td>18/Sep/23 6:21 PM</td>\n",
       "      <td>tjohnson1</td>\n",
       "      <td>27/Jun/23 6:05 AM</td>\n",
       "      <td>WU: Publish</td>\n",
       "      <td>NaN</td>\n",
       "      <td>14.0</td>\n",
       "      <td>20.0</td>\n",
       "      <td>70.00</td>\n",
       "    </tr>\n",
       "    <tr>\n",
       "      <th>2</th>\n",
       "      <td>ATETOOLS-841</td>\n",
       "      <td>7772817</td>\n",
       "      <td>Stories that cover the MAPCD UI, Service and DB</td>\n",
       "      <td>18/Oct/23 9:07 AM</td>\n",
       "      <td>tjohnson1</td>\n",
       "      <td>22/Aug/23 12:02 PM</td>\n",
       "      <td>WU: MAPCD</td>\n",
       "      <td>NaN</td>\n",
       "      <td>25.0</td>\n",
       "      <td>29.0</td>\n",
       "      <td>86.21</td>\n",
       "    </tr>\n",
       "    <tr>\n",
       "      <th>3</th>\n",
       "      <td>ATETOOLS-838</td>\n",
       "      <td>7771551</td>\n",
       "      <td>Web Updates: Installer for Web Updates, OnDemand</td>\n",
       "      <td>18/Oct/23 8:49 AM</td>\n",
       "      <td>tjohnson1</td>\n",
       "      <td>22/Aug/23 7:45 AM</td>\n",
       "      <td>WU: Installer</td>\n",
       "      <td>NaN</td>\n",
       "      <td>0.0</td>\n",
       "      <td>2.0</td>\n",
       "      <td>0.00</td>\n",
       "    </tr>\n",
       "    <tr>\n",
       "      <th>4</th>\n",
       "      <td>CSRM-86</td>\n",
       "      <td>7414509</td>\n",
       "      <td>Upgrade the database from MySQL to PostgreSQL</td>\n",
       "      <td>29/Aug/23 7:39 AM</td>\n",
       "      <td>tjohnson1</td>\n",
       "      <td>23/May/23 5:05 AM</td>\n",
       "      <td>Tier 2 DB</td>\n",
       "      <td>NaN</td>\n",
       "      <td>11.0</td>\n",
       "      <td>18.0</td>\n",
       "      <td>61.11</td>\n",
       "    </tr>\n",
       "    <tr>\n",
       "      <th>5</th>\n",
       "      <td>ATETOOLS-186</td>\n",
       "      <td>6375645</td>\n",
       "      <td>Tech Debt: FY23 - High Priority issues with at...</td>\n",
       "      <td>01/Aug/23 6:05 AM</td>\n",
       "      <td>tjohnson1</td>\n",
       "      <td>11/May/22 9:08 AM</td>\n",
       "      <td>Tech Debt: FY23</td>\n",
       "      <td>NaN</td>\n",
       "      <td>20.0</td>\n",
       "      <td>20.0</td>\n",
       "      <td>100.00</td>\n",
       "    </tr>\n",
       "    <tr>\n",
       "      <th>6</th>\n",
       "      <td>ATETOOLS-631</td>\n",
       "      <td>7218442</td>\n",
       "      <td>Stories for Detail conversion and DB2Detail.</td>\n",
       "      <td>14/Aug/23 1:35 PM</td>\n",
       "      <td>tjohnson1</td>\n",
       "      <td>23/Mar/23 2:36 PM</td>\n",
       "      <td>TY23 Client Detail</td>\n",
       "      <td>NaN</td>\n",
       "      <td>19.0</td>\n",
       "      <td>19.0</td>\n",
       "      <td>100.00</td>\n",
       "    </tr>\n",
       "    <tr>\n",
       "      <th>7</th>\n",
       "      <td>ATETOOLS-346</td>\n",
       "      <td>6588111</td>\n",
       "      <td>Support: FY-23</td>\n",
       "      <td>03/Oct/23 12:28 PM</td>\n",
       "      <td>tjohnson1</td>\n",
       "      <td>02/Aug/22 2:36 PM</td>\n",
       "      <td>Support: FY-23</td>\n",
       "      <td>NaN</td>\n",
       "      <td>154.0</td>\n",
       "      <td>163.0</td>\n",
       "      <td>94.48</td>\n",
       "    </tr>\n",
       "    <tr>\n",
       "      <th>8</th>\n",
       "      <td>CSRM-72</td>\n",
       "      <td>6479332</td>\n",
       "      <td>Support CSRM: FY23</td>\n",
       "      <td>26/Sep/23 9:17 AM</td>\n",
       "      <td>tjohnson1</td>\n",
       "      <td>27/Jun/22 11:57 AM</td>\n",
       "      <td>Support CSRM: FY23</td>\n",
       "      <td>NaN</td>\n",
       "      <td>11.0</td>\n",
       "      <td>15.0</td>\n",
       "      <td>73.33</td>\n",
       "    </tr>\n",
       "    <tr>\n",
       "      <th>9</th>\n",
       "      <td>ATETOOLS-803</td>\n",
       "      <td>7706967</td>\n",
       "      <td>Epic for capturing RTB for ATETOOLS</td>\n",
       "      <td>04/Oct/23 2:09 PM</td>\n",
       "      <td>tjohnson1</td>\n",
       "      <td>01/Aug/23 6:16 AM</td>\n",
       "      <td>RTB: FY24</td>\n",
       "      <td>NaN</td>\n",
       "      <td>14.0</td>\n",
       "      <td>25.0</td>\n",
       "      <td>56.00</td>\n",
       "    </tr>\n",
       "    <tr>\n",
       "      <th>10</th>\n",
       "      <td>ATETOOLS-79</td>\n",
       "      <td>6166045</td>\n",
       "      <td>Pro Forma / Organizer</td>\n",
       "      <td>13/Sep/22 5:47 AM</td>\n",
       "      <td>NaN</td>\n",
       "      <td>11/Feb/22 5:30 AM</td>\n",
       "      <td>Pro Forma / Organizer</td>\n",
       "      <td>NaN</td>\n",
       "      <td>2.0</td>\n",
       "      <td>2.0</td>\n",
       "      <td>100.00</td>\n",
       "    </tr>\n",
       "    <tr>\n",
       "      <th>11</th>\n",
       "      <td>ATETOOLS-629</td>\n",
       "      <td>7218425</td>\n",
       "      <td>Stories for moving OSI development to a newer IDE</td>\n",
       "      <td>09/May/23 5:13 AM</td>\n",
       "      <td>tjohnson1</td>\n",
       "      <td>23/Mar/23 2:25 PM</td>\n",
       "      <td>OSI Upgrade</td>\n",
       "      <td>NaN</td>\n",
       "      <td>3.0</td>\n",
       "      <td>3.0</td>\n",
       "      <td>100.00</td>\n",
       "    </tr>\n",
       "    <tr>\n",
       "      <th>12</th>\n",
       "      <td>ATETOOLS-789</td>\n",
       "      <td>7700010</td>\n",
       "      <td>Epic for Updating ACE Tools that read/write to...</td>\n",
       "      <td>29/Aug/23 8:29 AM</td>\n",
       "      <td>tjohnson1</td>\n",
       "      <td>30/Jul/23 2:18 PM</td>\n",
       "      <td>Lacerte2GitHub</td>\n",
       "      <td>NaN</td>\n",
       "      <td>10.0</td>\n",
       "      <td>10.0</td>\n",
       "      <td>100.00</td>\n",
       "    </tr>\n",
       "    <tr>\n",
       "      <th>13</th>\n",
       "      <td>ATETOOLS-699</td>\n",
       "      <td>7438681</td>\n",
       "      <td>Upgrading to Java 11</td>\n",
       "      <td>11/Sep/23 12:04 PM</td>\n",
       "      <td>tjohnson1</td>\n",
       "      <td>31/May/23 7:36 AM</td>\n",
       "      <td>Java 11</td>\n",
       "      <td>NaN</td>\n",
       "      <td>11.0</td>\n",
       "      <td>16.0</td>\n",
       "      <td>68.75</td>\n",
       "    </tr>\n",
       "    <tr>\n",
       "      <th>14</th>\n",
       "      <td>ATETOOLS-686</td>\n",
       "      <td>7374164</td>\n",
       "      <td>Captures ACE effort for assisting in the Ident...</td>\n",
       "      <td>30/Aug/23 8:21 AM</td>\n",
       "      <td>tjohnson1</td>\n",
       "      <td>09/May/23 7:39 AM</td>\n",
       "      <td>Identity 2.0</td>\n",
       "      <td>NaN</td>\n",
       "      <td>27.0</td>\n",
       "      <td>27.0</td>\n",
       "      <td>100.00</td>\n",
       "    </tr>\n",
       "    <tr>\n",
       "      <th>15</th>\n",
       "      <td>ATETOOLS-443</td>\n",
       "      <td>6747798</td>\n",
       "      <td>GitHub V.2 - New Features and Improvements in ...</td>\n",
       "      <td>07/Sep/23 7:48 AM</td>\n",
       "      <td>tjohnson1</td>\n",
       "      <td>04/Oct/22 8:41 AM</td>\n",
       "      <td>GitHub V.2</td>\n",
       "      <td>NaN</td>\n",
       "      <td>3.0</td>\n",
       "      <td>6.0</td>\n",
       "      <td>50.00</td>\n",
       "    </tr>\n",
       "    <tr>\n",
       "      <th>16</th>\n",
       "      <td>ATETOOLS-681</td>\n",
       "      <td>7364866</td>\n",
       "      <td>Improve EForms experience</td>\n",
       "      <td>13/Oct/23 4:31 PM</td>\n",
       "      <td>tjohnson1</td>\n",
       "      <td>05/May/23 5:31 AM</td>\n",
       "      <td>EForms</td>\n",
       "      <td>NaN</td>\n",
       "      <td>1.0</td>\n",
       "      <td>7.0</td>\n",
       "      <td>14.29</td>\n",
       "    </tr>\n",
       "    <tr>\n",
       "      <th>17</th>\n",
       "      <td>ATETOOLS-396</td>\n",
       "      <td>6672513</td>\n",
       "      <td>BAR UX &amp; Service improvements</td>\n",
       "      <td>27/Jun/23 5:51 AM</td>\n",
       "      <td>tjohnson1</td>\n",
       "      <td>06/Sep/22 7:59 AM</td>\n",
       "      <td>BAR</td>\n",
       "      <td>NaN</td>\n",
       "      <td>28.0</td>\n",
       "      <td>32.0</td>\n",
       "      <td>87.50</td>\n",
       "    </tr>\n",
       "    <tr>\n",
       "      <th>18</th>\n",
       "      <td>ATETOOLS-460</td>\n",
       "      <td>6785698</td>\n",
       "      <td>ATE-Bridge</td>\n",
       "      <td>19/Oct/22 8:06 AM</td>\n",
       "      <td>tjohnson1</td>\n",
       "      <td>18/Oct/22 12:08 PM</td>\n",
       "      <td>ATE-Bridge</td>\n",
       "      <td>NaN</td>\n",
       "      <td>1.0</td>\n",
       "      <td>1.0</td>\n",
       "      <td>100.00</td>\n",
       "    </tr>\n",
       "    <tr>\n",
       "      <th>19</th>\n",
       "      <td>ATETOOLS-261</td>\n",
       "      <td>6453145</td>\n",
       "      <td>ATE JOE/JOE Regressions</td>\n",
       "      <td>13/Sep/23 1:29 PM</td>\n",
       "      <td>tjohnson1</td>\n",
       "      <td>14/Jun/22 11:40 AM</td>\n",
       "      <td>ATE JOE/JOE</td>\n",
       "      <td>NaN</td>\n",
       "      <td>20.0</td>\n",
       "      <td>24.0</td>\n",
       "      <td>83.33</td>\n",
       "    </tr>\n",
       "    <tr>\n",
       "      <th>20</th>\n",
       "      <td>ATETOOLS-817</td>\n",
       "      <td>7749780</td>\n",
       "      <td>Stories for 1040 Mapping for ATE</td>\n",
       "      <td>14/Aug/23 2:53 PM</td>\n",
       "      <td>tjohnson1</td>\n",
       "      <td>14/Aug/23 1:02 PM</td>\n",
       "      <td>1040 IDX Mapping</td>\n",
       "      <td>NaN</td>\n",
       "      <td>3.0</td>\n",
       "      <td>3.0</td>\n",
       "      <td>100.00</td>\n",
       "    </tr>\n",
       "  </tbody>\n",
       "</table>\n",
       "</div>"
      ],
      "text/plain": [
       "       Issue key  Issue id                                            Summary  \\\n",
       "0   ATETOOLS-831   7756526                   Workstation Setup - Do it for Me   \n",
       "1   ATETOOLS-748   7579792  Stories for publishing ATE Tax Content artifac...   \n",
       "2   ATETOOLS-841   7772817    Stories that cover the MAPCD UI, Service and DB   \n",
       "3   ATETOOLS-838   7771551   Web Updates: Installer for Web Updates, OnDemand   \n",
       "4        CSRM-86   7414509      Upgrade the database from MySQL to PostgreSQL   \n",
       "5   ATETOOLS-186   6375645  Tech Debt: FY23 - High Priority issues with at...   \n",
       "6   ATETOOLS-631   7218442       Stories for Detail conversion and DB2Detail.   \n",
       "7   ATETOOLS-346   6588111                                     Support: FY-23   \n",
       "8        CSRM-72   6479332                                 Support CSRM: FY23   \n",
       "9   ATETOOLS-803   7706967                Epic for capturing RTB for ATETOOLS   \n",
       "10   ATETOOLS-79   6166045                              Pro Forma / Organizer   \n",
       "11  ATETOOLS-629   7218425  Stories for moving OSI development to a newer IDE   \n",
       "12  ATETOOLS-789   7700010  Epic for Updating ACE Tools that read/write to...   \n",
       "13  ATETOOLS-699   7438681                               Upgrading to Java 11   \n",
       "14  ATETOOLS-686   7374164  Captures ACE effort for assisting in the Ident...   \n",
       "15  ATETOOLS-443   6747798  GitHub V.2 - New Features and Improvements in ...   \n",
       "16  ATETOOLS-681   7364866                          Improve EForms experience   \n",
       "17  ATETOOLS-396   6672513                      BAR UX & Service improvements   \n",
       "18  ATETOOLS-460   6785698                                         ATE-Bridge   \n",
       "19  ATETOOLS-261   6453145                            ATE JOE/JOE Regressions   \n",
       "20  ATETOOLS-817   7749780                   Stories for 1040 Mapping for ATE   \n",
       "\n",
       "               Updated   Assignee             Created              Epic Name  \\\n",
       "0   16/Aug/23 12:07 PM  tjohnson1  16/Aug/23 12:06 PM      Workstation Setup   \n",
       "1    18/Sep/23 6:21 PM  tjohnson1   27/Jun/23 6:05 AM            WU: Publish   \n",
       "2    18/Oct/23 9:07 AM  tjohnson1  22/Aug/23 12:02 PM              WU: MAPCD   \n",
       "3    18/Oct/23 8:49 AM  tjohnson1   22/Aug/23 7:45 AM          WU: Installer   \n",
       "4    29/Aug/23 7:39 AM  tjohnson1   23/May/23 5:05 AM              Tier 2 DB   \n",
       "5    01/Aug/23 6:05 AM  tjohnson1   11/May/22 9:08 AM        Tech Debt: FY23   \n",
       "6    14/Aug/23 1:35 PM  tjohnson1   23/Mar/23 2:36 PM     TY23 Client Detail   \n",
       "7   03/Oct/23 12:28 PM  tjohnson1   02/Aug/22 2:36 PM         Support: FY-23   \n",
       "8    26/Sep/23 9:17 AM  tjohnson1  27/Jun/22 11:57 AM     Support CSRM: FY23   \n",
       "9    04/Oct/23 2:09 PM  tjohnson1   01/Aug/23 6:16 AM              RTB: FY24   \n",
       "10   13/Sep/22 5:47 AM        NaN   11/Feb/22 5:30 AM  Pro Forma / Organizer   \n",
       "11   09/May/23 5:13 AM  tjohnson1   23/Mar/23 2:25 PM            OSI Upgrade   \n",
       "12   29/Aug/23 8:29 AM  tjohnson1   30/Jul/23 2:18 PM         Lacerte2GitHub   \n",
       "13  11/Sep/23 12:04 PM  tjohnson1   31/May/23 7:36 AM                Java 11   \n",
       "14   30/Aug/23 8:21 AM  tjohnson1   09/May/23 7:39 AM           Identity 2.0   \n",
       "15   07/Sep/23 7:48 AM  tjohnson1   04/Oct/22 8:41 AM             GitHub V.2   \n",
       "16   13/Oct/23 4:31 PM  tjohnson1   05/May/23 5:31 AM                 EForms   \n",
       "17   27/Jun/23 5:51 AM  tjohnson1   06/Sep/22 7:59 AM                    BAR   \n",
       "18   19/Oct/22 8:06 AM  tjohnson1  18/Oct/22 12:08 PM             ATE-Bridge   \n",
       "19   13/Sep/23 1:29 PM  tjohnson1  14/Jun/22 11:40 AM            ATE JOE/JOE   \n",
       "20   14/Aug/23 2:53 PM  tjohnson1   14/Aug/23 1:02 PM       1040 IDX Mapping   \n",
       "\n",
       "    Resolution  Completed Story Points  Total Story Points  \\\n",
       "0          NaN                     0.0                 1.0   \n",
       "1          NaN                    14.0                20.0   \n",
       "2          NaN                    25.0                29.0   \n",
       "3          NaN                     0.0                 2.0   \n",
       "4          NaN                    11.0                18.0   \n",
       "5          NaN                    20.0                20.0   \n",
       "6          NaN                    19.0                19.0   \n",
       "7          NaN                   154.0               163.0   \n",
       "8          NaN                    11.0                15.0   \n",
       "9          NaN                    14.0                25.0   \n",
       "10         NaN                     2.0                 2.0   \n",
       "11         NaN                     3.0                 3.0   \n",
       "12         NaN                    10.0                10.0   \n",
       "13         NaN                    11.0                16.0   \n",
       "14         NaN                    27.0                27.0   \n",
       "15         NaN                     3.0                 6.0   \n",
       "16         NaN                     1.0                 7.0   \n",
       "17         NaN                    28.0                32.0   \n",
       "18         NaN                     1.0                 1.0   \n",
       "19         NaN                    20.0                24.0   \n",
       "20         NaN                     3.0                 3.0   \n",
       "\n",
       "    Percentage Complete  \n",
       "0                  0.00  \n",
       "1                 70.00  \n",
       "2                 86.21  \n",
       "3                  0.00  \n",
       "4                 61.11  \n",
       "5                100.00  \n",
       "6                100.00  \n",
       "7                 94.48  \n",
       "8                 73.33  \n",
       "9                 56.00  \n",
       "10               100.00  \n",
       "11               100.00  \n",
       "12               100.00  \n",
       "13                68.75  \n",
       "14               100.00  \n",
       "15                50.00  \n",
       "16                14.29  \n",
       "17                87.50  \n",
       "18               100.00  \n",
       "19                83.33  \n",
       "20               100.00  "
      ]
     },
     "execution_count": 7,
     "metadata": {},
     "output_type": "execute_result"
    }
   ],
   "source": [
    "df.rename(columns = {'Custom field (Epic Name)':'Epic Name'}, inplace =True )\n",
    "df.rename(columns = {'Custom field (Completed Story Points)':'Completed Story Points'}, inplace =True )\n",
    "df.rename(columns = {'Custom field (Total Story Points)':'Total Story Points'}, inplace =True )\n",
    "\n",
    "df.info()\n",
    "df['Percentage Complete'] = 100 - round((((df['Total Story Points'] - df['Completed Story Points'])/ df['Total Story Points'])*100), 2)\n",
    "df.info()\n",
    "df.head(21)"
   ]
  },
  {
   "cell_type": "code",
   "execution_count": 9,
   "id": "9b7dc0d2-9621-4478-ab6c-424593762b2b",
   "metadata": {
    "tags": []
   },
   "outputs": [
    {
     "data": {
      "image/png": "[encoded data removed]",
      "text/plain": [
       "<Figure size 1000x700 with 1 Axes>"
      ]
     },
     "metadata": {},
     "output_type": "display_data"
    }
   ],
   "source": [
    "df_not_completed = df[df['Percentage Complete'] < 100]\n",
    "\n",
    "df_not_completed.head()\n",
    "plt.figure(figsize=(10,7))\n",
    "plt.xticks(rotation=0)\n",
    "plt.xlim(0,100)\n",
    "\n",
    "sns.barplot(y='Epic Name', x='Percentage Complete', data=df_not_completed);"
   ]
  },
  {
   "cell_type": "code",
   "execution_count": 26,
   "id": "e09c2632-0c4b-4006-8e0b-ca0f41bc7f67",
   "metadata": {
    "tags": []
   },
   "outputs": [
    {
     "data": {
      "image/png": "[encoded data removed]",
      "text/plain": [
       "<Figure size 640x480 with 1 Axes>"
      ]
     },
     "metadata": {},
     "output_type": "display_data"
    }
   ],
   "source": [
    "\n",
    "profit_color = [('#485B00' if p > 80 else '#FF4040') for p in df_not_completed['Percentage Complete']]\n",
    "test_color = ['tab:blue','tab:orange','tab:green','tab:red','tab:purple']\n",
    "intuit_color=['cornflowerblue','lightsteelblue','mediumseagreen']\n",
    "\n",
    "ax = df_not_completed.plot.barh(y='Percentage Complete', x='Epic Name', legend=False, color=intuit_color)\n",
    "ax.invert_yaxis()\n",
    "ax.set_xlim(0,100)\n",
    "ax.bar_label(ax.containers[0]);"
   ]
  },
  {
   "cell_type": "code",
   "execution_count": null,
   "id": "0cc62bd3-ab5c-49e4-ade2-70f543cde621",
   "metadata": {},
   "outputs": [],
   "source": [
    "ax = sns.barplot(y='Epic Name', x='Percentage Complete', data=df_not_completed)\n",
    "\n",
    "for x,y,s in df_not_completed(x):\n",
    "    ax.text(0.5,0.5, df_not_completed[row.value]['Percentage Complete'],\n",
    "            color='black', ha='center')"
   ]
  },
  {
   "cell_type": "code",
   "execution_count": 28,
   "id": "b2b1ae2a-50a2-4e44-b2de-490bcd90b5e3",
   "metadata": {
    "tags": []
   },
   "outputs": [
    {
     "data": {
      "text/html": [
       "<div>\n",
       "<style scoped>\n",
       "    .dataframe tbody tr th:only-of-type {\n",
       "        vertical-align: middle;\n",
       "    }\n",
       "\n",
       "    .dataframe tbody tr th {\n",
       "        vertical-align: top;\n",
       "    }\n",
       "\n",
       "    .dataframe thead th {\n",
       "        text-align: right;\n",
       "    }\n",
       "</style>\n",
       "<table border=\"1\" class=\"dataframe\">\n",
       "  <thead>\n",
       "    <tr style=\"text-align: right;\">\n",
       "      <th></th>\n",
       "      <th>Summary</th>\n",
       "      <th>Issue key</th>\n",
       "      <th>Issue id</th>\n",
       "      <th>Issue Type</th>\n",
       "      <th>Status</th>\n",
       "      <th>Project key</th>\n",
       "      <th>Project name</th>\n",
       "      <th>Project type</th>\n",
       "      <th>Project lead</th>\n",
       "      <th>Project description</th>\n",
       "      <th>...</th>\n",
       "      <th>Custom field (Watcher).2</th>\n",
       "      <th>Custom field (Watcher).3</th>\n",
       "      <th>Custom field (Watcher).4</th>\n",
       "      <th>Custom field (Watcher).5</th>\n",
       "      <th>Custom field (Work Category)</th>\n",
       "      <th>Custom field (Workaround)</th>\n",
       "      <th>Custom field (gitCommitsReferenced)</th>\n",
       "      <th>Comment</th>\n",
       "      <th>Comment.1</th>\n",
       "      <th>Comment.2</th>\n",
       "    </tr>\n",
       "  </thead>\n",
       "  <tbody>\n",
       "    <tr>\n",
       "      <th>0</th>\n",
       "      <td>Lacerte COR US Print Regression Issue</td>\n",
       "      <td>ATETOOLS-881</td>\n",
       "      <td>7795030</td>\n",
       "      <td>Story</td>\n",
       "      <td>Released</td>\n",
       "      <td>ATETOOLS</td>\n",
       "      <td>ACE: ATE Content Engineering Support</td>\n",
       "      <td>software</td>\n",
       "      <td>tjohnson1</td>\n",
       "      <td>ACE is the team that provides ATE &amp; ATE Conten...</td>\n",
       "      <td>...</td>\n",
       "      <td>NaN</td>\n",
       "      <td>NaN</td>\n",
       "      <td>NaN</td>\n",
       "      <td>NaN</td>\n",
       "      <td>NaN</td>\n",
       "      <td>NaN</td>\n",
       "      <td>NaN</td>\n",
       "      <td>NaN</td>\n",
       "      <td>NaN</td>\n",
       "      <td>NaN</td>\n",
       "    </tr>\n",
       "    <tr>\n",
       "      <th>1</th>\n",
       "      <td>2023 COR AL EF Regressions not updating</td>\n",
       "      <td>ATETOOLS-932</td>\n",
       "      <td>8010953</td>\n",
       "      <td>Story</td>\n",
       "      <td>Closed</td>\n",
       "      <td>ATETOOLS</td>\n",
       "      <td>ACE: ATE Content Engineering Support</td>\n",
       "      <td>software</td>\n",
       "      <td>tjohnson1</td>\n",
       "      <td>ACE is the team that provides ATE &amp; ATE Conten...</td>\n",
       "      <td>...</td>\n",
       "      <td>NaN</td>\n",
       "      <td>NaN</td>\n",
       "      <td>NaN</td>\n",
       "      <td>NaN</td>\n",
       "      <td>NaN</td>\n",
       "      <td>NaN</td>\n",
       "      <td>NaN</td>\n",
       "      <td>11/Oct/23 9:23 AM;sshrivastava1;Upon looking a...</td>\n",
       "      <td>NaN</td>\n",
       "      <td>NaN</td>\n",
       "    </tr>\n",
       "    <tr>\n",
       "      <th>2</th>\n",
       "      <td>GitHub Organizational Rights - New TAP Hire</td>\n",
       "      <td>ATETOOLS-757</td>\n",
       "      <td>7629104</td>\n",
       "      <td>Story</td>\n",
       "      <td>Closed</td>\n",
       "      <td>ATETOOLS</td>\n",
       "      <td>ACE: ATE Content Engineering Support</td>\n",
       "      <td>software</td>\n",
       "      <td>tjohnson1</td>\n",
       "      <td>ACE is the team that provides ATE &amp; ATE Conten...</td>\n",
       "      <td>...</td>\n",
       "      <td>NaN</td>\n",
       "      <td>NaN</td>\n",
       "      <td>NaN</td>\n",
       "      <td>NaN</td>\n",
       "      <td>NaN</td>\n",
       "      <td>NaN</td>\n",
       "      <td>NaN</td>\n",
       "      <td>NaN</td>\n",
       "      <td>NaN</td>\n",
       "      <td>NaN</td>\n",
       "    </tr>\n",
       "    <tr>\n",
       "      <th>3</th>\n",
       "      <td>Implement \"build\" scenario and dashboard tile</td>\n",
       "      <td>ATETOOLS-736</td>\n",
       "      <td>7514562</td>\n",
       "      <td>Story</td>\n",
       "      <td>Released</td>\n",
       "      <td>ATETOOLS</td>\n",
       "      <td>ACE: ATE Content Engineering Support</td>\n",
       "      <td>software</td>\n",
       "      <td>tjohnson1</td>\n",
       "      <td>ACE is the team that provides ATE &amp; ATE Conten...</td>\n",
       "      <td>...</td>\n",
       "      <td>NaN</td>\n",
       "      <td>NaN</td>\n",
       "      <td>NaN</td>\n",
       "      <td>NaN</td>\n",
       "      <td>NaN</td>\n",
       "      <td>NaN</td>\n",
       "      <td>NaN</td>\n",
       "      <td>NaN</td>\n",
       "      <td>NaN</td>\n",
       "      <td>NaN</td>\n",
       "    </tr>\n",
       "    <tr>\n",
       "      <th>4</th>\n",
       "      <td>ITE: SCM errors are logged in Telemetry</td>\n",
       "      <td>ATETOOLS-565</td>\n",
       "      <td>7069917</td>\n",
       "      <td>Story</td>\n",
       "      <td>Released</td>\n",
       "      <td>ATETOOLS</td>\n",
       "      <td>ACE: ATE Content Engineering Support</td>\n",
       "      <td>software</td>\n",
       "      <td>tjohnson1</td>\n",
       "      <td>ACE is the team that provides ATE &amp; ATE Conten...</td>\n",
       "      <td>...</td>\n",
       "      <td>NaN</td>\n",
       "      <td>NaN</td>\n",
       "      <td>NaN</td>\n",
       "      <td>NaN</td>\n",
       "      <td>NaN</td>\n",
       "      <td>NaN</td>\n",
       "      <td>NaN</td>\n",
       "      <td>NaN</td>\n",
       "      <td>NaN</td>\n",
       "      <td>NaN</td>\n",
       "    </tr>\n",
       "  </tbody>\n",
       "</table>\n",
       "<p>5 rows × 229 columns</p>\n",
       "</div>"
      ],
      "text/plain": [
       "                                         Summary     Issue key  Issue id  \\\n",
       "0          Lacerte COR US Print Regression Issue  ATETOOLS-881   7795030   \n",
       "1        2023 COR AL EF Regressions not updating  ATETOOLS-932   8010953   \n",
       "2    GitHub Organizational Rights - New TAP Hire  ATETOOLS-757   7629104   \n",
       "3  Implement \"build\" scenario and dashboard tile  ATETOOLS-736   7514562   \n",
       "4        ITE: SCM errors are logged in Telemetry  ATETOOLS-565   7069917   \n",
       "\n",
       "  Issue Type    Status Project key                          Project name  \\\n",
       "0      Story  Released    ATETOOLS  ACE: ATE Content Engineering Support   \n",
       "1      Story    Closed    ATETOOLS  ACE: ATE Content Engineering Support   \n",
       "2      Story    Closed    ATETOOLS  ACE: ATE Content Engineering Support   \n",
       "3      Story  Released    ATETOOLS  ACE: ATE Content Engineering Support   \n",
       "4      Story  Released    ATETOOLS  ACE: ATE Content Engineering Support   \n",
       "\n",
       "  Project type Project lead  \\\n",
       "0     software    tjohnson1   \n",
       "1     software    tjohnson1   \n",
       "2     software    tjohnson1   \n",
       "3     software    tjohnson1   \n",
       "4     software    tjohnson1   \n",
       "\n",
       "                                 Project description  ...  \\\n",
       "0  ACE is the team that provides ATE & ATE Conten...  ...   \n",
       "1  ACE is the team that provides ATE & ATE Conten...  ...   \n",
       "2  ACE is the team that provides ATE & ATE Conten...  ...   \n",
       "3  ACE is the team that provides ATE & ATE Conten...  ...   \n",
       "4  ACE is the team that provides ATE & ATE Conten...  ...   \n",
       "\n",
       "  Custom field (Watcher).2 Custom field (Watcher).3 Custom field (Watcher).4  \\\n",
       "0                      NaN                      NaN                      NaN   \n",
       "1                      NaN                      NaN                      NaN   \n",
       "2                      NaN                      NaN                      NaN   \n",
       "3                      NaN                      NaN                      NaN   \n",
       "4                      NaN                      NaN                      NaN   \n",
       "\n",
       "  Custom field (Watcher).5 Custom field (Work Category)  \\\n",
       "0                      NaN                          NaN   \n",
       "1                      NaN                          NaN   \n",
       "2                      NaN                          NaN   \n",
       "3                      NaN                          NaN   \n",
       "4                      NaN                          NaN   \n",
       "\n",
       "  Custom field (Workaround) Custom field (gitCommitsReferenced)  \\\n",
       "0                       NaN                                 NaN   \n",
       "1                       NaN                                 NaN   \n",
       "2                       NaN                                 NaN   \n",
       "3                       NaN                                 NaN   \n",
       "4                       NaN                                 NaN   \n",
       "\n",
       "                                             Comment Comment.1 Comment.2  \n",
       "0                                                NaN       NaN       NaN  \n",
       "1  11/Oct/23 9:23 AM;sshrivastava1;Upon looking a...       NaN       NaN  \n",
       "2                                                NaN       NaN       NaN  \n",
       "3                                                NaN       NaN       NaN  \n",
       "4                                                NaN       NaN       NaN  \n",
       "\n",
       "[5 rows x 229 columns]"
      ]
     },
     "execution_count": 28,
     "metadata": {},
     "output_type": "execute_result"
    }
   ],
   "source": [
    "octResolvedIssues.head(5)"
   ]
  },
  {
   "cell_type": "code",
   "execution_count": 29,
   "id": "013353e9-5780-491f-9f2d-625e605c1c81",
   "metadata": {
    "tags": []
   },
   "outputs": [
    {
     "name": "stdout",
     "output_type": "stream",
     "text": [
      "<class 'pandas.core.frame.DataFrame'>\n",
      "RangeIndex: 145 entries, 0 to 144\n",
      "Columns: 229 entries, Summary to Comment.2\n",
      "dtypes: float64(119), int64(4), object(106)\n",
      "memory usage: 259.5+ KB\n"
     ]
    }
   ],
   "source": [
    "octResolvedIssues.info()"
   ]
  },
  {
   "cell_type": "code",
   "execution_count": null,
   "id": "dad0528f-140b-4abe-ae09-b0db92f5edbd",
   "metadata": {
    "tags": []
   },
   "outputs": [],
   "source": [
    "\n",
    "octResolvedIssues.rename(columns = {'Custom field (Epic Name)':'Epic Name'}, inplace =True )\n",
    "octResolvedIssues.rename(columns = {'Custom field (Completed Story Points)':'Completed Story Points'}, inplace =True )\n",
    "octResolvedIssues.rename(columns = {'Custom field (Total Story Points)':'Total Story Points'}, inplace =True )\n",
    "octResolvedIssues.drop(columns = {'Custom field (Watcher).2', 'Custom field (Watcher).3','Custom field (Watcher).4','Custom field (Watcher).5'}, inplace=True)\n",
    "octResolvedIssues.drop(columns = {'Custom field (Watcher)', 'Custom field (Watcher).1','Custom field (Work Category)','Custom field (Workaround)'}, inplace=True)\n"
   ]
  },
  {
   "cell_type": "code",
   "execution_count": 47,
   "id": "d450070f-f8e5-4867-93a6-211fc4b745bd",
   "metadata": {
    "tags": []
   },
   "outputs": [
    {
     "data": {
      "text/html": [
       "<div>\n",
       "<style scoped>\n",
       "    .dataframe tbody tr th:only-of-type {\n",
       "        vertical-align: middle;\n",
       "    }\n",
       "\n",
       "    .dataframe tbody tr th {\n",
       "        vertical-align: top;\n",
       "    }\n",
       "\n",
       "    .dataframe thead th {\n",
       "        text-align: right;\n",
       "    }\n",
       "</style>\n",
       "<table border=\"1\" class=\"dataframe\">\n",
       "  <thead>\n",
       "    <tr style=\"text-align: right;\">\n",
       "      <th></th>\n",
       "      <th>Summary</th>\n",
       "      <th>Issue key</th>\n",
       "      <th>Issue id</th>\n",
       "      <th>Issue Type</th>\n",
       "      <th>Status</th>\n",
       "      <th>Project key</th>\n",
       "      <th>Project name</th>\n",
       "      <th>Project type</th>\n",
       "      <th>Project lead</th>\n",
       "      <th>Project description</th>\n",
       "      <th>...</th>\n",
       "      <th>Custom field (Test Case ID)</th>\n",
       "      <th>Custom field (Test Sessions)</th>\n",
       "      <th>Custom field (Test Type)</th>\n",
       "      <th>Custom field (Testing Status)</th>\n",
       "      <th>Total Story Points</th>\n",
       "      <th>Custom field (URL)</th>\n",
       "      <th>Custom field (Vendor)</th>\n",
       "      <th>Custom field (Verified in Build)</th>\n",
       "      <th>Custom field (Verifier)</th>\n",
       "      <th>Custom field (gitCommitsReferenced)</th>\n",
       "    </tr>\n",
       "  </thead>\n",
       "  <tbody>\n",
       "    <tr>\n",
       "      <th>0</th>\n",
       "      <td>Lacerte COR US Print Regression Issue</td>\n",
       "      <td>ATETOOLS-881</td>\n",
       "      <td>7795030</td>\n",
       "      <td>Story</td>\n",
       "      <td>Released</td>\n",
       "      <td>ATETOOLS</td>\n",
       "      <td>ACE: ATE Content Engineering Support</td>\n",
       "      <td>software</td>\n",
       "      <td>tjohnson1</td>\n",
       "      <td>ACE is the team that provides ATE &amp; ATE Conten...</td>\n",
       "      <td>...</td>\n",
       "      <td>NaN</td>\n",
       "      <td>NaN</td>\n",
       "      <td>NaN</td>\n",
       "      <td>Not started</td>\n",
       "      <td>NaN</td>\n",
       "      <td>NaN</td>\n",
       "      <td>NaN</td>\n",
       "      <td>NaN</td>\n",
       "      <td>NaN</td>\n",
       "      <td>NaN</td>\n",
       "    </tr>\n",
       "    <tr>\n",
       "      <th>1</th>\n",
       "      <td>2023 COR AL EF Regressions not updating</td>\n",
       "      <td>ATETOOLS-932</td>\n",
       "      <td>8010953</td>\n",
       "      <td>Story</td>\n",
       "      <td>Closed</td>\n",
       "      <td>ATETOOLS</td>\n",
       "      <td>ACE: ATE Content Engineering Support</td>\n",
       "      <td>software</td>\n",
       "      <td>tjohnson1</td>\n",
       "      <td>ACE is the team that provides ATE &amp; ATE Conten...</td>\n",
       "      <td>...</td>\n",
       "      <td>NaN</td>\n",
       "      <td>NaN</td>\n",
       "      <td>NaN</td>\n",
       "      <td>Not started</td>\n",
       "      <td>NaN</td>\n",
       "      <td>NaN</td>\n",
       "      <td>NaN</td>\n",
       "      <td>NaN</td>\n",
       "      <td>NaN</td>\n",
       "      <td>NaN</td>\n",
       "    </tr>\n",
       "  </tbody>\n",
       "</table>\n",
       "<p>2 rows × 218 columns</p>\n",
       "</div>"
      ],
      "text/plain": [
       "                                   Summary     Issue key  Issue id Issue Type  \\\n",
       "0    Lacerte COR US Print Regression Issue  ATETOOLS-881   7795030      Story   \n",
       "1  2023 COR AL EF Regressions not updating  ATETOOLS-932   8010953      Story   \n",
       "\n",
       "     Status Project key                          Project name Project type  \\\n",
       "0  Released    ATETOOLS  ACE: ATE Content Engineering Support     software   \n",
       "1    Closed    ATETOOLS  ACE: ATE Content Engineering Support     software   \n",
       "\n",
       "  Project lead                                Project description  ...  \\\n",
       "0    tjohnson1  ACE is the team that provides ATE & ATE Conten...  ...   \n",
       "1    tjohnson1  ACE is the team that provides ATE & ATE Conten...  ...   \n",
       "\n",
       "  Custom field (Test Case ID) Custom field (Test Sessions)  \\\n",
       "0                         NaN                          NaN   \n",
       "1                         NaN                          NaN   \n",
       "\n",
       "  Custom field (Test Type) Custom field (Testing Status) Total Story Points  \\\n",
       "0                      NaN                   Not started                NaN   \n",
       "1                      NaN                   Not started                NaN   \n",
       "\n",
       "  Custom field (URL) Custom field (Vendor) Custom field (Verified in Build)  \\\n",
       "0                NaN                   NaN                              NaN   \n",
       "1                NaN                   NaN                              NaN   \n",
       "\n",
       "  Custom field (Verifier) Custom field (gitCommitsReferenced)  \n",
       "0                     NaN                                 NaN  \n",
       "1                     NaN                                 NaN  \n",
       "\n",
       "[2 rows x 218 columns]"
      ]
     },
     "execution_count": 47,
     "metadata": {},
     "output_type": "execute_result"
    }
   ],
   "source": [
    "octResolvedIssues.drop(columns = {'Comment', 'Comment.1','Comment.2'}, inplace=True)\n",
    "\n",
    "octResolvedIssues.head(2)"
   ]
  },
  {
   "cell_type": "code",
   "execution_count": 57,
   "id": "ec4c3adf-4bf5-43ef-94f5-6072d1a30dec",
   "metadata": {
    "tags": []
   },
   "outputs": [
    {
     "data": {
      "image/png": "[encoded data removed]",
      "text/plain": [
       "<Figure size 1000x700 with 1 Axes>"
      ]
     },
     "metadata": {},
     "output_type": "display_data"
    }
   ],
   "source": [
    "plt.figure(figsize=(10,7))\n",
    "plt.xticks(rotation=90)\n",
    "plt.ylim(0,40)\n",
    "sns.countplot(x='Assignee', data=octResolvedIssues);\n"
   ]
  },
  {
   "cell_type": "code",
   "execution_count": 58,
   "id": "50998979-1ab0-49f1-923a-2df0cfdd8ff1",
   "metadata": {
    "tags": []
   },
   "outputs": [
    {
     "data": {
      "image/png": "[encoded data removed]",
      "text/plain": [
       "<Figure size 1000x700 with 1 Axes>"
      ]
     },
     "metadata": {},
     "output_type": "display_data"
    }
   ],
   "source": [
    "plt.figure(figsize=(10,7))\n",
    "plt.xticks(rotation=90)\n",
    "plt.ylim(0,10)\n",
    "sns.histplot(x='Epic Name',data=octResolvedIssues);"
   ]
  },
  {
   "cell_type": "code",
   "execution_count": 63,
   "id": "23ce8279-42f5-4bb5-a5fe-d76b2febb21c",
   "metadata": {
    "tags": []
   },
   "outputs": [
    {
     "data": {
      "application/vnd.plotly.v1+json": {
       "config": {
        "plotlyServerURL": "https://plot.ly"
       },
       "data": [
        {
         "alignmentgroup": "True",
         "bingroup": "x",
         "hovertemplate": "Assignee=%{x}<br>count=%{y}<extra></extra>",
         "legendgroup": "",
         "marker": {
          "color": "#636efa",
          "pattern": {
           "shape": ""
          }
         },
         "name": "",
         "offsetgroup": "",
         "orientation": "v",
         "showlegend": false,
         "type": "histogram",
         "x": [
          null,
          null,
          "wrobinson",
          "wrobinson",
          "wrobinson",
          "wrobinson",
          "wrobinson",
          "tjohnson1",
          "tjohnson1",
          "tjohnson1",
          "tjohnson1",
          "tjohnson1",
          "tjohnson1",
          "tjohnson1",
          "tjohnson1",
          "tjohnson1",
          "tjohnson1",
          "tjohnson1",
          "tjohnson1",
          "sshrivastava1",
          "sshrivastava1",
          "sshrivastava1",
          "sshrivastava1",
          "sshrivastava1",
          "sshrivastava1",
          "sshrivastava1",
          "sshrivastava1",
          "sshrivastava1",
          "sshrivastava1",
          "sshrivastava1",
          "sshrivastava1",
          "sshrivastava1",
          "sshrivastava1",
          "sshrivastava1",
          "sshrivastava1",
          "sshrivastava1",
          "sshrivastava1",
          "rmainville",
          "rmainville",
          "rmainville",
          "rmainville",
          "rmainville",
          "rmainville",
          "rmainville",
          "rmainville",
          "rmainville",
          "rmainville",
          "rmainville",
          "rmainville",
          "rmainville",
          "rmainville",
          "rmainville",
          "rmainville",
          "rmainville",
          "rmainville",
          "rmainville",
          "rmainville",
          "rmainville",
          "rmainville",
          "rmainville",
          "rmainville",
          "rmainville",
          "ppenumarthi",
          "ppenumarthi",
          "ppenumarthi",
          "ppenumarthi",
          "ppenumarthi",
          "ppenumarthi",
          "ppenumarthi",
          "ppenumarthi",
          "ppenumarthi",
          "ppenumarthi",
          "ppenumarthi",
          "ppenumarthi",
          "ppenumarthi",
          "ppenumarthi",
          "ppenumarthi",
          "ppenumarthi",
          "ppenumarthi",
          "ppenumarthi",
          "ppenumarthi",
          "ppenumarthi",
          "ppenumarthi",
          "ppenumarthi",
          "ppenumarthi",
          "ppenumarthi",
          "ppenumarthi",
          "ppenumarthi",
          "ppenumarthi",
          "mdaugherty",
          "mdaugherty",
          "mdaugherty",
          "mdaugherty",
          "mdaugherty",
          "mdaugherty",
          "mdaugherty",
          "mdaugherty",
          "krajah",
          "krajah",
          "krajah",
          "krajah",
          "krajah",
          "krajah",
          "krajah",
          "krajah",
          "jmohammed",
          "ehenderson3",
          "ehenderson3",
          "ehenderson3",
          "ehenderson3",
          "ehenderson3",
          "ehenderson3",
          "ehenderson3",
          "ehenderson3",
          "ehenderson3",
          "ehenderson3",
          "ehenderson3",
          "ehenderson3",
          "dle01",
          "dle01",
          "dle01",
          "dle01",
          "dle01",
          "dle01",
          "dle01",
          "dle01",
          "dle01",
          "dle01",
          "dle01",
          "dle01",
          "dle01",
          "dle01",
          "dle01",
          "dle01",
          "dle01",
          "dle01",
          "dle01",
          "dle01",
          "dle01",
          "dle01",
          "dle01",
          "dle01",
          "dle01",
          "dle01",
          "dle01"
         ],
         "xaxis": "x",
         "yaxis": "y"
        }
       ],
       "layout": {
        "autosize": true,
        "barmode": "relative",
        "legend": {
         "tracegroupgap": 0
        },
        "margin": {
         "t": 60
        },
        "template": {
         "data": {
          "bar": [
           {
            "error_x": {
             "color": "#2a3f5f"
            },
            "error_y": {
             "color": "#2a3f5f"
            },
            "marker": {
             "line": {
              "color": "#E5ECF6",
              "width": 0.5
             },
             "pattern": {
              "fillmode": "overlay",
              "size": 10,
              "solidity": 0.2
             }
            },
            "type": "bar"
           }
          ],
          "barpolar": [
           {
            "marker": {
             "line": {
              "color": "#E5ECF6",
              "width": 0.5
             },
             "pattern": {
              "fillmode": "overlay",
              "size": 10,
              "solidity": 0.2
             }
            },
            "type": "barpolar"
           }
          ],
          "carpet": [
           {
            "aaxis": {
             "endlinecolor": "#2a3f5f",
             "gridcolor": "white",
             "linecolor": "white",
             "minorgridcolor": "white",
             "startlinecolor": "#2a3f5f"
            },
            "baxis": {
             "endlinecolor": "#2a3f5f",
             "gridcolor": "white",
             "linecolor": "white",
             "minorgridcolor": "white",
             "startlinecolor": "#2a3f5f"
            },
            "type": "carpet"
           }
          ],
          "choropleth": [
           {
            "colorbar": {
             "outlinewidth": 0,
             "ticks": ""
            },
            "type": "choropleth"
           }
          ],
          "contour": [
           {
            "colorbar": {
             "outlinewidth": 0,
             "ticks": ""
            },
            "colorscale": [
             [
              0,
              "#0d0887"
             ],
             [
              0.1111111111111111,
              "#46039f"
             ],
             [
              0.2222222222222222,
              "#7201a8"
             ],
             [
              0.3333333333333333,
              "#9c179e"
             ],
             [
              0.4444444444444444,
              "#bd3786"
             ],
             [
              0.5555555555555556,
              "#d8576b"
             ],
             [
              0.6666666666666666,
              "#ed7953"
             ],
             [
              0.7777777777777778,
              "#fb9f3a"
             ],
             [
              0.8888888888888888,
              "#fdca26"
             ],
             [
              1,
              "#f0f921"
             ]
            ],
            "type": "contour"
           }
          ],
          "contourcarpet": [
           {
            "colorbar": {
             "outlinewidth": 0,
             "ticks": ""
            },
            "type": "contourcarpet"
           }
          ],
          "heatmap": [
           {
            "colorbar": {
             "outlinewidth": 0,
             "ticks": ""
            },
            "colorscale": [
             [
              0,
              "#0d0887"
             ],
             [
              0.1111111111111111,
              "#46039f"
             ],
             [
              0.2222222222222222,
              "#7201a8"
             ],
             [
              0.3333333333333333,
              "#9c179e"
             ],
             [
              0.4444444444444444,
              "#bd3786"
             ],
             [
              0.5555555555555556,
              "#d8576b"
             ],
             [
              0.6666666666666666,
              "#ed7953"
             ],
             [
              0.7777777777777778,
              "#fb9f3a"
             ],
             [
              0.8888888888888888,
              "#fdca26"
             ],
             [
              1,
              "#f0f921"
             ]
            ],
            "type": "heatmap"
           }
          ],
          "heatmapgl": [
           {
            "colorbar": {
             "outlinewidth": 0,
             "ticks": ""
            },
            "colorscale": [
             [
              0,
              "#0d0887"
             ],
             [
              0.1111111111111111,
              "#46039f"
             ],
             [
              0.2222222222222222,
              "#7201a8"
             ],
             [
              0.3333333333333333,
              "#9c179e"
             ],
             [
              0.4444444444444444,
              "#bd3786"
             ],
             [
              0.5555555555555556,
              "#d8576b"
             ],
             [
              0.6666666666666666,
              "#ed7953"
             ],
             [
              0.7777777777777778,
              "#fb9f3a"
             ],
             [
              0.8888888888888888,
              "#fdca26"
             ],
             [
              1,
              "#f0f921"
             ]
            ],
            "type": "heatmapgl"
           }
          ],
          "histogram": [
           {
            "marker": {
             "pattern": {
              "fillmode": "overlay",
              "size": 10,
              "solidity": 0.2
             }
            },
            "type": "histogram"
           }
          ],
          "histogram2d": [
           {
            "colorbar": {
             "outlinewidth": 0,
             "ticks": ""
            },
            "colorscale": [
             [
              0,
              "#0d0887"
             ],
             [
              0.1111111111111111,
              "#46039f"
             ],
             [
              0.2222222222222222,
              "#7201a8"
             ],
             [
              0.3333333333333333,
              "#9c179e"
             ],
             [
              0.4444444444444444,
              "#bd3786"
             ],
             [
              0.5555555555555556,
              "#d8576b"
             ],
             [
              0.6666666666666666,
              "#ed7953"
             ],
             [
              0.7777777777777778,
              "#fb9f3a"
             ],
             [
              0.8888888888888888,
              "#fdca26"
             ],
             [
              1,
              "#f0f921"
             ]
            ],
            "type": "histogram2d"
           }
          ],
          "histogram2dcontour": [
           {
            "colorbar": {
             "outlinewidth": 0,
             "ticks": ""
            },
            "colorscale": [
             [
              0,
              "#0d0887"
             ],
             [
              0.1111111111111111,
              "#46039f"
             ],
             [
              0.2222222222222222,
              "#7201a8"
             ],
             [
              0.3333333333333333,
              "#9c179e"
             ],
             [
              0.4444444444444444,
              "#bd3786"
             ],
             [
              0.5555555555555556,
              "#d8576b"
             ],
             [
              0.6666666666666666,
              "#ed7953"
             ],
             [
              0.7777777777777778,
              "#fb9f3a"
             ],
             [
              0.8888888888888888,
              "#fdca26"
             ],
             [
              1,
              "#f0f921"
             ]
            ],
            "type": "histogram2dcontour"
           }
          ],
          "mesh3d": [
           {
            "colorbar": {
             "outlinewidth": 0,
             "ticks": ""
            },
            "type": "mesh3d"
           }
          ],
          "parcoords": [
           {
            "line": {
             "colorbar": {
              "outlinewidth": 0,
              "ticks": ""
             }
            },
            "type": "parcoords"
           }
          ],
          "pie": [
           {
            "automargin": true,
            "type": "pie"
           }
          ],
          "scatter": [
           {
            "fillpattern": {
             "fillmode": "overlay",
             "size": 10,
             "solidity": 0.2
            },
            "type": "scatter"
           }
          ],
          "scatter3d": [
           {
            "line": {
             "colorbar": {
              "outlinewidth": 0,
              "ticks": ""
             }
            },
            "marker": {
             "colorbar": {
              "outlinewidth": 0,
              "ticks": ""
             }
            },
            "type": "scatter3d"
           }
          ],
          "scattercarpet": [
           {
            "marker": {
             "colorbar": {
              "outlinewidth": 0,
              "ticks": ""
             }
            },
            "type": "scattercarpet"
           }
          ],
          "scattergeo": [
           {
            "marker": {
             "colorbar": {
              "outlinewidth": 0,
              "ticks": ""
             }
            },
            "type": "scattergeo"
           }
          ],
          "scattergl": [
           {
            "marker": {
             "colorbar": {
              "outlinewidth": 0,
              "ticks": ""
             }
            },
            "type": "scattergl"
           }
          ],
          "scattermapbox": [
           {
            "marker": {
             "colorbar": {
              "outlinewidth": 0,
              "ticks": ""
             }
            },
            "type": "scattermapbox"
           }
          ],
          "scatterpolar": [
           {
            "marker": {
             "colorbar": {
              "outlinewidth": 0,
              "ticks": ""
             }
            },
            "type": "scatterpolar"
           }
          ],
          "scatterpolargl": [
           {
            "marker": {
             "colorbar": {
              "outlinewidth": 0,
              "ticks": ""
             }
            },
            "type": "scatterpolargl"
           }
          ],
          "scatterternary": [
           {
            "marker": {
             "colorbar": {
              "outlinewidth": 0,
              "ticks": ""
             }
            },
            "type": "scatterternary"
           }
          ],
          "surface": [
           {
            "colorbar": {
             "outlinewidth": 0,
             "ticks": ""
            },
            "colorscale": [
             [
              0,
              "#0d0887"
             ],
             [
              0.1111111111111111,
              "#46039f"
             ],
             [
              0.2222222222222222,
              "#7201a8"
             ],
             [
              0.3333333333333333,
              "#9c179e"
             ],
             [
              0.4444444444444444,
              "#bd3786"
             ],
             [
              0.5555555555555556,
              "#d8576b"
             ],
             [
              0.6666666666666666,
              "#ed7953"
             ],
             [
              0.7777777777777778,
              "#fb9f3a"
             ],
             [
              0.8888888888888888,
              "#fdca26"
             ],
             [
              1,
              "#f0f921"
             ]
            ],
            "type": "surface"
           }
          ],
          "table": [
           {
            "cells": {
             "fill": {
              "color": "#EBF0F8"
             },
             "line": {
              "color": "white"
             }
            },
            "header": {
             "fill": {
              "color": "#C8D4E3"
             },
             "line": {
              "color": "white"
             }
            },
            "type": "table"
           }
          ]
         },
         "layout": {
          "annotationdefaults": {
           "arrowcolor": "#2a3f5f",
           "arrowhead": 0,
           "arrowwidth": 1
          },
          "autotypenumbers": "strict",
          "coloraxis": {
           "colorbar": {
            "outlinewidth": 0,
            "ticks": ""
           }
          },
          "colorscale": {
           "diverging": [
            [
             0,
             "#8e0152"
            ],
            [
             0.1,
             "#c51b7d"
            ],
            [
             0.2,
             "#de77ae"
            ],
            [
             0.3,
             "#f1b6da"
            ],
            [
             0.4,
             "#fde0ef"
            ],
            [
             0.5,
             "#f7f7f7"
            ],
            [
             0.6,
             "#e6f5d0"
            ],
            [
             0.7,
             "#b8e186"
            ],
            [
             0.8,
             "#7fbc41"
            ],
            [
             0.9,
             "#4d9221"
            ],
            [
             1,
             "#276419"
            ]
           ],
           "sequential": [
            [
             0,
             "#0d0887"
            ],
            [
             0.1111111111111111,
             "#46039f"
            ],
            [
             0.2222222222222222,
             "#7201a8"
            ],
            [
             0.3333333333333333,
             "#9c179e"
            ],
            [
             0.4444444444444444,
             "#bd3786"
            ],
            [
             0.5555555555555556,
             "#d8576b"
            ],
            [
             0.6666666666666666,
             "#ed7953"
            ],
            [
             0.7777777777777778,
             "#fb9f3a"
            ],
            [
             0.8888888888888888,
             "#fdca26"
            ],
            [
             1,
             "#f0f921"
            ]
           ],
           "sequentialminus": [
            [
             0,
             "#0d0887"
            ],
            [
             0.1111111111111111,
             "#46039f"
            ],
            [
             0.2222222222222222,
             "#7201a8"
            ],
            [
             0.3333333333333333,
             "#9c179e"
            ],
            [
             0.4444444444444444,
             "#bd3786"
            ],
            [
             0.5555555555555556,
             "#d8576b"
            ],
            [
             0.6666666666666666,
             "#ed7953"
            ],
            [
             0.7777777777777778,
             "#fb9f3a"
            ],
            [
             0.8888888888888888,
             "#fdca26"
            ],
            [
             1,
             "#f0f921"
            ]
           ]
          },
          "colorway": [
           "#636efa",
           "#EF553B",
           "#00cc96",
           "#ab63fa",
           "#FFA15A",
           "#19d3f3",
           "#FF6692",
           "#B6E880",
           "#FF97FF",
           "#FECB52"
          ],
          "font": {
           "color": "#2a3f5f"
          },
          "geo": {
           "bgcolor": "white",
           "lakecolor": "white",
           "landcolor": "#E5ECF6",
           "showlakes": true,
           "showland": true,
           "subunitcolor": "white"
          },
          "hoverlabel": {
           "align": "left"
          },
          "hovermode": "closest",
          "mapbox": {
           "style": "light"
          },
          "paper_bgcolor": "white",
          "plot_bgcolor": "#E5ECF6",
          "polar": {
           "angularaxis": {
            "gridcolor": "white",
            "linecolor": "white",
            "ticks": ""
           },
           "bgcolor": "#E5ECF6",
           "radialaxis": {
            "gridcolor": "white",
            "linecolor": "white",
            "ticks": ""
           }
          },
          "scene": {
           "xaxis": {
            "backgroundcolor": "#E5ECF6",
            "gridcolor": "white",
            "gridwidth": 2,
            "linecolor": "white",
            "showbackground": true,
            "ticks": "",
            "zerolinecolor": "white"
           },
           "yaxis": {
            "backgroundcolor": "#E5ECF6",
            "gridcolor": "white",
            "gridwidth": 2,
            "linecolor": "white",
            "showbackground": true,
            "ticks": "",
            "zerolinecolor": "white"
           },
           "zaxis": {
            "backgroundcolor": "#E5ECF6",
            "gridcolor": "white",
            "gridwidth": 2,
            "linecolor": "white",
            "showbackground": true,
            "ticks": "",
            "zerolinecolor": "white"
           }
          },
          "shapedefaults": {
           "line": {
            "color": "#2a3f5f"
           }
          },
          "ternary": {
           "aaxis": {
            "gridcolor": "white",
            "linecolor": "white",
            "ticks": ""
           },
           "baxis": {
            "gridcolor": "white",
            "linecolor": "white",
            "ticks": ""
           },
           "bgcolor": "#E5ECF6",
           "caxis": {
            "gridcolor": "white",
            "linecolor": "white",
            "ticks": ""
           }
          },
          "title": {
           "x": 0.05
          },
          "xaxis": {
           "automargin": true,
           "gridcolor": "white",
           "linecolor": "white",
           "ticks": "",
           "title": {
            "standoff": 15
           },
           "zerolinecolor": "white",
           "zerolinewidth": 2
          },
          "yaxis": {
           "automargin": true,
           "gridcolor": "white",
           "linecolor": "white",
           "ticks": "",
           "title": {
            "standoff": 15
           },
           "zerolinecolor": "white",
           "zerolinewidth": 2
          }
         }
        },
        "xaxis": {
         "anchor": "y",
         "autorange": true,
         "domain": [
          0,
          1
         ],
         "range": [
          -0.5,
          9.5
         ],
         "title": {
          "text": "Assignee"
         },
         "type": "category"
        },
        "yaxis": {
         "anchor": "x",
         "autorange": true,
         "domain": [
          0,
          1
         ],
         "range": [
          0,
          28.42105263157895
         ],
         "title": {
          "text": "count"
         }
        }
       }
      },
      "image/png": "[encoded data removed]",
      "text/html": [
       "<div>                            <div id=\"22b56edc-c2c4-416f-af35-ffba8663570b\" class=\"plotly-graph-div\" style=\"height:525px; width:100%;\"></div>            <script type=\"text/javascript\">                require([\"plotly\"], function(Plotly) {                    window.PLOTLYENV=window.PLOTLYENV || {};                                    if (document.getElementById(\"22b56edc-c2c4-416f-af35-ffba8663570b\")) {                    Plotly.newPlot(                        \"22b56edc-c2c4-416f-af35-ffba8663570b\",                        [{\"alignmentgroup\":\"True\",\"bingroup\":\"x\",\"hovertemplate\":\"Assignee=%{x}<br>count=%{y}<extra></extra>\",\"legendgroup\":\"\",\"marker\":{\"color\":\"#636efa\",\"pattern\":{\"shape\":\"\"}},\"name\":\"\",\"offsetgroup\":\"\",\"orientation\":\"v\",\"showlegend\":false,\"x\":[null,null,\"wrobinson\",\"wrobinson\",\"wrobinson\",\"wrobinson\",\"wrobinson\",\"tjohnson1\",\"tjohnson1\",\"tjohnson1\",\"tjohnson1\",\"tjohnson1\",\"tjohnson1\",\"tjohnson1\",\"tjohnson1\",\"tjohnson1\",\"tjohnson1\",\"tjohnson1\",\"tjohnson1\",\"sshrivastava1\",\"sshrivastava1\",\"sshrivastava1\",\"sshrivastava1\",\"sshrivastava1\",\"sshrivastava1\",\"sshrivastava1\",\"sshrivastava1\",\"sshrivastava1\",\"sshrivastava1\",\"sshrivastava1\",\"sshrivastava1\",\"sshrivastava1\",\"sshrivastava1\",\"sshrivastava1\",\"sshrivastava1\",\"sshrivastava1\",\"sshrivastava1\",\"rmainville\",\"rmainville\",\"rmainville\",\"rmainville\",\"rmainville\",\"rmainville\",\"rmainville\",\"rmainville\",\"rmainville\",\"rmainville\",\"rmainville\",\"rmainville\",\"rmainville\",\"rmainville\",\"rmainville\",\"rmainville\",\"rmainville\",\"rmainville\",\"rmainville\",\"rmainville\",\"rmainville\",\"rmainville\",\"rmainville\",\"rmainville\",\"rmainville\",\"ppenumarthi\",\"ppenumarthi\",\"ppenumarthi\",\"ppenumarthi\",\"ppenumarthi\",\"ppenumarthi\",\"ppenumarthi\",\"ppenumarthi\",\"ppenumarthi\",\"ppenumarthi\",\"ppenumarthi\",\"ppenumarthi\",\"ppenumarthi\",\"ppenumarthi\",\"ppenumarthi\",\"ppenumarthi\",\"ppenumarthi\",\"ppenumarthi\",\"ppenumarthi\",\"ppenumarthi\",\"ppenumarthi\",\"ppenumarthi\",\"ppenumarthi\",\"ppenumarthi\",\"ppenumarthi\",\"ppenumarthi\",\"ppenumarthi\",\"mdaugherty\",\"mdaugherty\",\"mdaugherty\",\"mdaugherty\",\"mdaugherty\",\"mdaugherty\",\"mdaugherty\",\"mdaugherty\",\"krajah\",\"krajah\",\"krajah\",\"krajah\",\"krajah\",\"krajah\",\"krajah\",\"krajah\",\"jmohammed\",\"ehenderson3\",\"ehenderson3\",\"ehenderson3\",\"ehenderson3\",\"ehenderson3\",\"ehenderson3\",\"ehenderson3\",\"ehenderson3\",\"ehenderson3\",\"ehenderson3\",\"ehenderson3\",\"ehenderson3\",\"dle01\",\"dle01\",\"dle01\",\"dle01\",\"dle01\",\"dle01\",\"dle01\",\"dle01\",\"dle01\",\"dle01\",\"dle01\",\"dle01\",\"dle01\",\"dle01\",\"dle01\",\"dle01\",\"dle01\",\"dle01\",\"dle01\",\"dle01\",\"dle01\",\"dle01\",\"dle01\",\"dle01\",\"dle01\",\"dle01\",\"dle01\"],\"xaxis\":\"x\",\"yaxis\":\"y\",\"type\":\"histogram\"}],                        {\"template\":{\"data\":{\"histogram2dcontour\":[{\"type\":\"histogram2dcontour\",\"colorbar\":{\"outlinewidth\":0,\"ticks\":\"\"},\"colorscale\":[[0.0,\"#0d0887\"],[0.1111111111111111,\"#46039f\"],[0.2222222222222222,\"#7201a8\"],[0.3333333333333333,\"#9c179e\"],[0.4444444444444444,\"#bd3786\"],[0.5555555555555556,\"#d8576b\"],[0.6666666666666666,\"#ed7953\"],[0.7777777777777778,\"#fb9f3a\"],[0.8888888888888888,\"#fdca26\"],[1.0,\"#f0f921\"]]}],\"choropleth\":[{\"type\":\"choropleth\",\"colorbar\":{\"outlinewidth\":0,\"ticks\":\"\"}}],\"histogram2d\":[{\"type\":\"histogram2d\",\"colorbar\":{\"outlinewidth\":0,\"ticks\":\"\"},\"colorscale\":[[0.0,\"#0d0887\"],[0.1111111111111111,\"#46039f\"],[0.2222222222222222,\"#7201a8\"],[0.3333333333333333,\"#9c179e\"],[0.4444444444444444,\"#bd3786\"],[0.5555555555555556,\"#d8576b\"],[0.6666666666666666,\"#ed7953\"],[0.7777777777777778,\"#fb9f3a\"],[0.8888888888888888,\"#fdca26\"],[1.0,\"#f0f921\"]]}],\"heatmap\":[{\"type\":\"heatmap\",\"colorbar\":{\"outlinewidth\":0,\"ticks\":\"\"},\"colorscale\":[[0.0,\"#0d0887\"],[0.1111111111111111,\"#46039f\"],[0.2222222222222222,\"#7201a8\"],[0.3333333333333333,\"#9c179e\"],[0.4444444444444444,\"#bd3786\"],[0.5555555555555556,\"#d8576b\"],[0.6666666666666666,\"#ed7953\"],[0.7777777777777778,\"#fb9f3a\"],[0.8888888888888888,\"#fdca26\"],[1.0,\"#f0f921\"]]}],\"heatmapgl\":[{\"type\":\"heatmapgl\",\"colorbar\":{\"outlinewidth\":0,\"ticks\":\"\"},\"colorscale\":[[0.0,\"#0d0887\"],[0.1111111111111111,\"#46039f\"],[0.2222222222222222,\"#7201a8\"],[0.3333333333333333,\"#9c179e\"],[0.4444444444444444,\"#bd3786\"],[0.5555555555555556,\"#d8576b\"],[0.6666666666666666,\"#ed7953\"],[0.7777777777777778,\"#fb9f3a\"],[0.8888888888888888,\"#fdca26\"],[1.0,\"#f0f921\"]]}],\"contourcarpet\":[{\"type\":\"contourcarpet\",\"colorbar\":{\"outlinewidth\":0,\"ticks\":\"\"}}],\"contour\":[{\"type\":\"contour\",\"colorbar\":{\"outlinewidth\":0,\"ticks\":\"\"},\"colorscale\":[[0.0,\"#0d0887\"],[0.1111111111111111,\"#46039f\"],[0.2222222222222222,\"#7201a8\"],[0.3333333333333333,\"#9c179e\"],[0.4444444444444444,\"#bd3786\"],[0.5555555555555556,\"#d8576b\"],[0.6666666666666666,\"#ed7953\"],[0.7777777777777778,\"#fb9f3a\"],[0.8888888888888888,\"#fdca26\"],[1.0,\"#f0f921\"]]}],\"surface\":[{\"type\":\"surface\",\"colorbar\":{\"outlinewidth\":0,\"ticks\":\"\"},\"colorscale\":[[0.0,\"#0d0887\"],[0.1111111111111111,\"#46039f\"],[0.2222222222222222,\"#7201a8\"],[0.3333333333333333,\"#9c179e\"],[0.4444444444444444,\"#bd3786\"],[0.5555555555555556,\"#d8576b\"],[0.6666666666666666,\"#ed7953\"],[0.7777777777777778,\"#fb9f3a\"],[0.8888888888888888,\"#fdca26\"],[1.0,\"#f0f921\"]]}],\"mesh3d\":[{\"type\":\"mesh3d\",\"colorbar\":{\"outlinewidth\":0,\"ticks\":\"\"}}],\"scatter\":[{\"fillpattern\":{\"fillmode\":\"overlay\",\"size\":10,\"solidity\":0.2},\"type\":\"scatter\"}],\"parcoords\":[{\"type\":\"parcoords\",\"line\":{\"colorbar\":{\"outlinewidth\":0,\"ticks\":\"\"}}}],\"scatterpolargl\":[{\"type\":\"scatterpolargl\",\"marker\":{\"colorbar\":{\"outlinewidth\":0,\"ticks\":\"\"}}}],\"bar\":[{\"error_x\":{\"color\":\"#2a3f5f\"},\"error_y\":{\"color\":\"#2a3f5f\"},\"marker\":{\"line\":{\"color\":\"#E5ECF6\",\"width\":0.5},\"pattern\":{\"fillmode\":\"overlay\",\"size\":10,\"solidity\":0.2}},\"type\":\"bar\"}],\"scattergeo\":[{\"type\":\"scattergeo\",\"marker\":{\"colorbar\":{\"outlinewidth\":0,\"ticks\":\"\"}}}],\"scatterpolar\":[{\"type\":\"scatterpolar\",\"marker\":{\"colorbar\":{\"outlinewidth\":0,\"ticks\":\"\"}}}],\"histogram\":[{\"marker\":{\"pattern\":{\"fillmode\":\"overlay\",\"size\":10,\"solidity\":0.2}},\"type\":\"histogram\"}],\"scattergl\":[{\"type\":\"scattergl\",\"marker\":{\"colorbar\":{\"outlinewidth\":0,\"ticks\":\"\"}}}],\"scatter3d\":[{\"type\":\"scatter3d\",\"line\":{\"colorbar\":{\"outlinewidth\":0,\"ticks\":\"\"}},\"marker\":{\"colorbar\":{\"outlinewidth\":0,\"ticks\":\"\"}}}],\"scattermapbox\":[{\"type\":\"scattermapbox\",\"marker\":{\"colorbar\":{\"outlinewidth\":0,\"ticks\":\"\"}}}],\"scatterternary\":[{\"type\":\"scatterternary\",\"marker\":{\"colorbar\":{\"outlinewidth\":0,\"ticks\":\"\"}}}],\"scattercarpet\":[{\"type\":\"scattercarpet\",\"marker\":{\"colorbar\":{\"outlinewidth\":0,\"ticks\":\"\"}}}],\"carpet\":[{\"aaxis\":{\"endlinecolor\":\"#2a3f5f\",\"gridcolor\":\"white\",\"linecolor\":\"white\",\"minorgridcolor\":\"white\",\"startlinecolor\":\"#2a3f5f\"},\"baxis\":{\"endlinecolor\":\"#2a3f5f\",\"gridcolor\":\"white\",\"linecolor\":\"white\",\"minorgridcolor\":\"white\",\"startlinecolor\":\"#2a3f5f\"},\"type\":\"carpet\"}],\"table\":[{\"cells\":{\"fill\":{\"color\":\"#EBF0F8\"},\"line\":{\"color\":\"white\"}},\"header\":{\"fill\":{\"color\":\"#C8D4E3\"},\"line\":{\"color\":\"white\"}},\"type\":\"table\"}],\"barpolar\":[{\"marker\":{\"line\":{\"color\":\"#E5ECF6\",\"width\":0.5},\"pattern\":{\"fillmode\":\"overlay\",\"size\":10,\"solidity\":0.2}},\"type\":\"barpolar\"}],\"pie\":[{\"automargin\":true,\"type\":\"pie\"}]},\"layout\":{\"autotypenumbers\":\"strict\",\"colorway\":[\"#636efa\",\"#EF553B\",\"#00cc96\",\"#ab63fa\",\"#FFA15A\",\"#19d3f3\",\"#FF6692\",\"#B6E880\",\"#FF97FF\",\"#FECB52\"],\"font\":{\"color\":\"#2a3f5f\"},\"hovermode\":\"closest\",\"hoverlabel\":{\"align\":\"left\"},\"paper_bgcolor\":\"white\",\"plot_bgcolor\":\"#E5ECF6\",\"polar\":{\"bgcolor\":\"#E5ECF6\",\"angularaxis\":{\"gridcolor\":\"white\",\"linecolor\":\"white\",\"ticks\":\"\"},\"radialaxis\":{\"gridcolor\":\"white\",\"linecolor\":\"white\",\"ticks\":\"\"}},\"ternary\":{\"bgcolor\":\"#E5ECF6\",\"aaxis\":{\"gridcolor\":\"white\",\"linecolor\":\"white\",\"ticks\":\"\"},\"baxis\":{\"gridcolor\":\"white\",\"linecolor\":\"white\",\"ticks\":\"\"},\"caxis\":{\"gridcolor\":\"white\",\"linecolor\":\"white\",\"ticks\":\"\"}},\"coloraxis\":{\"colorbar\":{\"outlinewidth\":0,\"ticks\":\"\"}},\"colorscale\":{\"sequential\":[[0.0,\"#0d0887\"],[0.1111111111111111,\"#46039f\"],[0.2222222222222222,\"#7201a8\"],[0.3333333333333333,\"#9c179e\"],[0.4444444444444444,\"#bd3786\"],[0.5555555555555556,\"#d8576b\"],[0.6666666666666666,\"#ed7953\"],[0.7777777777777778,\"#fb9f3a\"],[0.8888888888888888,\"#fdca26\"],[1.0,\"#f0f921\"]],\"sequentialminus\":[[0.0,\"#0d0887\"],[0.1111111111111111,\"#46039f\"],[0.2222222222222222,\"#7201a8\"],[0.3333333333333333,\"#9c179e\"],[0.4444444444444444,\"#bd3786\"],[0.5555555555555556,\"#d8576b\"],[0.6666666666666666,\"#ed7953\"],[0.7777777777777778,\"#fb9f3a\"],[0.8888888888888888,\"#fdca26\"],[1.0,\"#f0f921\"]],\"diverging\":[[0,\"#8e0152\"],[0.1,\"#c51b7d\"],[0.2,\"#de77ae\"],[0.3,\"#f1b6da\"],[0.4,\"#fde0ef\"],[0.5,\"#f7f7f7\"],[0.6,\"#e6f5d0\"],[0.7,\"#b8e186\"],[0.8,\"#7fbc41\"],[0.9,\"#4d9221\"],[1,\"#276419\"]]},\"xaxis\":{\"gridcolor\":\"white\",\"linecolor\":\"white\",\"ticks\":\"\",\"title\":{\"standoff\":15},\"zerolinecolor\":\"white\",\"automargin\":true,\"zerolinewidth\":2},\"yaxis\":{\"gridcolor\":\"white\",\"linecolor\":\"white\",\"ticks\":\"\",\"title\":{\"standoff\":15},\"zerolinecolor\":\"white\",\"automargin\":true,\"zerolinewidth\":2},\"scene\":{\"xaxis\":{\"backgroundcolor\":\"#E5ECF6\",\"gridcolor\":\"white\",\"linecolor\":\"white\",\"showbackground\":true,\"ticks\":\"\",\"zerolinecolor\":\"white\",\"gridwidth\":2},\"yaxis\":{\"backgroundcolor\":\"#E5ECF6\",\"gridcolor\":\"white\",\"linecolor\":\"white\",\"showbackground\":true,\"ticks\":\"\",\"zerolinecolor\":\"white\",\"gridwidth\":2},\"zaxis\":{\"backgroundcolor\":\"#E5ECF6\",\"gridcolor\":\"white\",\"linecolor\":\"white\",\"showbackground\":true,\"ticks\":\"\",\"zerolinecolor\":\"white\",\"gridwidth\":2}},\"shapedefaults\":{\"line\":{\"color\":\"#2a3f5f\"}},\"annotationdefaults\":{\"arrowcolor\":\"#2a3f5f\",\"arrowhead\":0,\"arrowwidth\":1},\"geo\":{\"bgcolor\":\"white\",\"landcolor\":\"#E5ECF6\",\"subunitcolor\":\"white\",\"showland\":true,\"showlakes\":true,\"lakecolor\":\"white\"},\"title\":{\"x\":0.05},\"mapbox\":{\"style\":\"light\"}}},\"xaxis\":{\"anchor\":\"y\",\"domain\":[0.0,1.0],\"title\":{\"text\":\"Assignee\"}},\"yaxis\":{\"anchor\":\"x\",\"domain\":[0.0,1.0],\"title\":{\"text\":\"count\"}},\"legend\":{\"tracegroupgap\":0},\"margin\":{\"t\":60},\"barmode\":\"relative\"},                        {\"responsive\": true}                    ).then(function(){\n",
       "                            \n",
       "var gd = document.getElementById('22b56edc-c2c4-416f-af35-ffba8663570b');\n",
       "var x = new MutationObserver(function (mutations, observer) {{\n",
       "        var display = window.getComputedStyle(gd).display;\n",
       "        if (!display || display === 'none') {{\n",
       "            console.log([gd, 'removed!']);\n",
       "            Plotly.purge(gd);\n",
       "            observer.disconnect();\n",
       "        }}\n",
       "}});\n",
       "\n",
       "// Listen for the removal of the full notebook cells\n",
       "var notebookContainer = gd.closest('#notebook-container');\n",
       "if (notebookContainer) {{\n",
       "    x.observe(notebookContainer, {childList: true});\n",
       "}}\n",
       "\n",
       "// Listen for the clearing of the current output cell\n",
       "var outputEl = gd.closest('.output');\n",
       "if (outputEl) {{\n",
       "    x.observe(outputEl, {childList: true});\n",
       "}}\n",
       "\n",
       "                        })                };                });            </script>        </div>"
      ]
     },
     "metadata": {},
     "output_type": "display_data"
    }
   ],
   "source": [
    "import plotly.express as px\n",
    "assignee_plot = px.histogram(octResolvedIssues, x='Assignee')\n",
    "assignee_plot.show()"
   ]
  },
  {
   "cell_type": "code",
   "execution_count": 67,
   "id": "66244fb7-f403-4acd-b2d4-5c41997954fd",
   "metadata": {
    "tags": []
   },
   "outputs": [
    {
     "data": {
      "application/vnd.plotly.v1+json": {
       "config": {
        "plotlyServerURL": "https://plot.ly"
       },
       "data": [
        {
         "alignmentgroup": "True",
         "hovertemplate": "Assignee=%{x}<br>count=%{y}<extra></extra>",
         "legendgroup": "",
         "marker": {
          "color": "#636efa",
          "pattern": {
           "shape": ""
          }
         },
         "name": "",
         "offsetgroup": "",
         "orientation": "v",
         "showlegend": false,
         "textposition": "auto",
         "type": "bar",
         "x": [
          null,
          null,
          "wrobinson",
          "wrobinson",
          "wrobinson",
          "wrobinson",
          "wrobinson",
          "tjohnson1",
          "tjohnson1",
          "tjohnson1",
          "tjohnson1",
          "tjohnson1",
          "tjohnson1",
          "tjohnson1",
          "tjohnson1",
          "tjohnson1",
          "tjohnson1",
          "tjohnson1",
          "tjohnson1",
          "sshrivastava1",
          "sshrivastava1",
          "sshrivastava1",
          "sshrivastava1",
          "sshrivastava1",
          "sshrivastava1",
          "sshrivastava1",
          "sshrivastava1",
          "sshrivastava1",
          "sshrivastava1",
          "sshrivastava1",
          "sshrivastava1",
          "sshrivastava1",
          "sshrivastava1",
          "sshrivastava1",
          "sshrivastava1",
          "sshrivastava1",
          "sshrivastava1",
          "rmainville",
          "rmainville",
          "rmainville",
          "rmainville",
          "rmainville",
          "rmainville",
          "rmainville",
          "rmainville",
          "rmainville",
          "rmainville",
          "rmainville",
          "rmainville",
          "rmainville",
          "rmainville",
          "rmainville",
          "rmainville",
          "rmainville",
          "rmainville",
          "rmainville",
          "rmainville",
          "rmainville",
          "rmainville",
          "rmainville",
          "rmainville",
          "rmainville",
          "ppenumarthi",
          "ppenumarthi",
          "ppenumarthi",
          "ppenumarthi",
          "ppenumarthi",
          "ppenumarthi",
          "ppenumarthi",
          "ppenumarthi",
          "ppenumarthi",
          "ppenumarthi",
          "ppenumarthi",
          "ppenumarthi",
          "ppenumarthi",
          "ppenumarthi",
          "ppenumarthi",
          "ppenumarthi",
          "ppenumarthi",
          "ppenumarthi",
          "ppenumarthi",
          "ppenumarthi",
          "ppenumarthi",
          "ppenumarthi",
          "ppenumarthi",
          "ppenumarthi",
          "ppenumarthi",
          "ppenumarthi",
          "ppenumarthi",
          "mdaugherty",
          "mdaugherty",
          "mdaugherty",
          "mdaugherty",
          "mdaugherty",
          "mdaugherty",
          "mdaugherty",
          "mdaugherty",
          "krajah",
          "krajah",
          "krajah",
          "krajah",
          "krajah",
          "krajah",
          "krajah",
          "krajah",
          "jmohammed",
          "ehenderson3",
          "ehenderson3",
          "ehenderson3",
          "ehenderson3",
          "ehenderson3",
          "ehenderson3",
          "ehenderson3",
          "ehenderson3",
          "ehenderson3",
          "ehenderson3",
          "ehenderson3",
          "ehenderson3",
          "dle01",
          "dle01",
          "dle01",
          "dle01",
          "dle01",
          "dle01",
          "dle01",
          "dle01",
          "dle01",
          "dle01",
          "dle01",
          "dle01",
          "dle01",
          "dle01",
          "dle01",
          "dle01",
          "dle01",
          "dle01",
          "dle01",
          "dle01",
          "dle01",
          "dle01",
          "dle01",
          "dle01",
          "dle01",
          "dle01",
          "dle01"
         ],
         "xaxis": "x",
         "y": [
          1,
          1,
          1,
          1,
          1,
          1,
          1,
          1,
          1,
          1,
          1,
          1,
          1,
          1,
          1,
          1,
          1,
          1,
          1,
          1,
          1,
          1,
          1,
          1,
          1,
          1,
          1,
          1,
          1,
          1,
          1,
          1,
          1,
          1,
          1,
          1,
          1,
          1,
          1,
          1,
          1,
          1,
          1,
          1,
          1,
          1,
          1,
          1,
          1,
          1,
          1,
          1,
          1,
          1,
          1,
          1,
          1,
          1,
          1,
          1,
          1,
          1,
          1,
          1,
          1,
          1,
          1,
          1,
          1,
          1,
          1,
          1,
          1,
          1,
          1,
          1,
          1,
          1,
          1,
          1,
          1,
          1,
          1,
          1,
          1,
          1,
          1,
          1,
          1,
          1,
          1,
          1,
          1,
          1,
          1,
          1,
          1,
          1,
          1,
          1,
          1,
          1,
          1,
          1,
          1,
          1,
          1,
          1,
          1,
          1,
          1,
          1,
          1,
          1,
          1,
          1,
          1,
          1,
          1,
          1,
          1,
          1,
          1,
          1,
          1,
          1,
          1,
          1,
          1,
          1,
          1,
          1,
          1,
          1,
          1,
          1,
          1,
          1,
          1,
          1,
          1,
          1,
          1,
          1,
          1
         ],
         "yaxis": "y"
        }
       ],
       "layout": {
        "autosize": true,
        "barmode": "relative",
        "legend": {
         "tracegroupgap": 0
        },
        "margin": {
         "t": 60
        },
        "template": {
         "data": {
          "bar": [
           {
            "error_x": {
             "color": "#2a3f5f"
            },
            "error_y": {
             "color": "#2a3f5f"
            },
            "marker": {
             "line": {
              "color": "#E5ECF6",
              "width": 0.5
             },
             "pattern": {
              "fillmode": "overlay",
              "size": 10,
              "solidity": 0.2
             }
            },
            "type": "bar"
           }
          ],
          "barpolar": [
           {
            "marker": {
             "line": {
              "color": "#E5ECF6",
              "width": 0.5
             },
             "pattern": {
              "fillmode": "overlay",
              "size": 10,
              "solidity": 0.2
             }
            },
            "type": "barpolar"
           }
          ],
          "carpet": [
           {
            "aaxis": {
             "endlinecolor": "#2a3f5f",
             "gridcolor": "white",
             "linecolor": "white",
             "minorgridcolor": "white",
             "startlinecolor": "#2a3f5f"
            },
            "baxis": {
             "endlinecolor": "#2a3f5f",
             "gridcolor": "white",
             "linecolor": "white",
             "minorgridcolor": "white",
             "startlinecolor": "#2a3f5f"
            },
            "type": "carpet"
           }
          ],
          "choropleth": [
           {
            "colorbar": {
             "outlinewidth": 0,
             "ticks": ""
            },
            "type": "choropleth"
           }
          ],
          "contour": [
           {
            "colorbar": {
             "outlinewidth": 0,
             "ticks": ""
            },
            "colorscale": [
             [
              0,
              "#0d0887"
             ],
             [
              0.1111111111111111,
              "#46039f"
             ],
             [
              0.2222222222222222,
              "#7201a8"
             ],
             [
              0.3333333333333333,
              "#9c179e"
             ],
             [
              0.4444444444444444,
              "#bd3786"
             ],
             [
              0.5555555555555556,
              "#d8576b"
             ],
             [
              0.6666666666666666,
              "#ed7953"
             ],
             [
              0.7777777777777778,
              "#fb9f3a"
             ],
             [
              0.8888888888888888,
              "#fdca26"
             ],
             [
              1,
              "#f0f921"
             ]
            ],
            "type": "contour"
           }
          ],
          "contourcarpet": [
           {
            "colorbar": {
             "outlinewidth": 0,
             "ticks": ""
            },
            "type": "contourcarpet"
           }
          ],
          "heatmap": [
           {
            "colorbar": {
             "outlinewidth": 0,
             "ticks": ""
            },
            "colorscale": [
             [
              0,
              "#0d0887"
             ],
             [
              0.1111111111111111,
              "#46039f"
             ],
             [
              0.2222222222222222,
              "#7201a8"
             ],
             [
              0.3333333333333333,
              "#9c179e"
             ],
             [
              0.4444444444444444,
              "#bd3786"
             ],
             [
              0.5555555555555556,
              "#d8576b"
             ],
             [
              0.6666666666666666,
              "#ed7953"
             ],
             [
              0.7777777777777778,
              "#fb9f3a"
             ],
             [
              0.8888888888888888,
              "#fdca26"
             ],
             [
              1,
              "#f0f921"
             ]
            ],
            "type": "heatmap"
           }
          ],
          "heatmapgl": [
           {
            "colorbar": {
             "outlinewidth": 0,
             "ticks": ""
            },
            "colorscale": [
             [
              0,
              "#0d0887"
             ],
             [
              0.1111111111111111,
              "#46039f"
             ],
             [
              0.2222222222222222,
              "#7201a8"
             ],
             [
              0.3333333333333333,
              "#9c179e"
             ],
             [
              0.4444444444444444,
              "#bd3786"
             ],
             [
              0.5555555555555556,
              "#d8576b"
             ],
             [
              0.6666666666666666,
              "#ed7953"
             ],
             [
              0.7777777777777778,
              "#fb9f3a"
             ],
             [
              0.8888888888888888,
              "#fdca26"
             ],
             [
              1,
              "#f0f921"
             ]
            ],
            "type": "heatmapgl"
           }
          ],
          "histogram": [
           {
            "marker": {
             "pattern": {
              "fillmode": "overlay",
              "size": 10,
              "solidity": 0.2
             }
            },
            "type": "histogram"
           }
          ],
          "histogram2d": [
           {
            "colorbar": {
             "outlinewidth": 0,
             "ticks": ""
            },
            "colorscale": [
             [
              0,
              "#0d0887"
             ],
             [
              0.1111111111111111,
              "#46039f"
             ],
             [
              0.2222222222222222,
              "#7201a8"
             ],
             [
              0.3333333333333333,
              "#9c179e"
             ],
             [
              0.4444444444444444,
              "#bd3786"
             ],
             [
              0.5555555555555556,
              "#d8576b"
             ],
             [
              0.6666666666666666,
              "#ed7953"
             ],
             [
              0.7777777777777778,
              "#fb9f3a"
             ],
             [
              0.8888888888888888,
              "#fdca26"
             ],
             [
              1,
              "#f0f921"
             ]
            ],
            "type": "histogram2d"
           }
          ],
          "histogram2dcontour": [
           {
            "colorbar": {
             "outlinewidth": 0,
             "ticks": ""
            },
            "colorscale": [
             [
              0,
              "#0d0887"
             ],
             [
              0.1111111111111111,
              "#46039f"
             ],
             [
              0.2222222222222222,
              "#7201a8"
             ],
             [
              0.3333333333333333,
              "#9c179e"
             ],
             [
              0.4444444444444444,
              "#bd3786"
             ],
             [
              0.5555555555555556,
              "#d8576b"
             ],
             [
              0.6666666666666666,
              "#ed7953"
             ],
             [
              0.7777777777777778,
              "#fb9f3a"
             ],
             [
              0.8888888888888888,
              "#fdca26"
             ],
             [
              1,
              "#f0f921"
             ]
            ],
            "type": "histogram2dcontour"
           }
          ],
          "mesh3d": [
           {
            "colorbar": {
             "outlinewidth": 0,
             "ticks": ""
            },
            "type": "mesh3d"
           }
          ],
          "parcoords": [
           {
            "line": {
             "colorbar": {
              "outlinewidth": 0,
              "ticks": ""
             }
            },
            "type": "parcoords"
           }
          ],
          "pie": [
           {
            "automargin": true,
            "type": "pie"
           }
          ],
          "scatter": [
           {
            "fillpattern": {
             "fillmode": "overlay",
             "size": 10,
             "solidity": 0.2
            },
            "type": "scatter"
           }
          ],
          "scatter3d": [
           {
            "line": {
             "colorbar": {
              "outlinewidth": 0,
              "ticks": ""
             }
            },
            "marker": {
             "colorbar": {
              "outlinewidth": 0,
              "ticks": ""
             }
            },
            "type": "scatter3d"
           }
          ],
          "scattercarpet": [
           {
            "marker": {
             "colorbar": {
              "outlinewidth": 0,
              "ticks": ""
             }
            },
            "type": "scattercarpet"
           }
          ],
          "scattergeo": [
           {
            "marker": {
             "colorbar": {
              "outlinewidth": 0,
              "ticks": ""
             }
            },
            "type": "scattergeo"
           }
          ],
          "scattergl": [
           {
            "marker": {
             "colorbar": {
              "outlinewidth": 0,
              "ticks": ""
             }
            },
            "type": "scattergl"
           }
          ],
          "scattermapbox": [
           {
            "marker": {
             "colorbar": {
              "outlinewidth": 0,
              "ticks": ""
             }
            },
            "type": "scattermapbox"
           }
          ],
          "scatterpolar": [
           {
            "marker": {
             "colorbar": {
              "outlinewidth": 0,
              "ticks": ""
             }
            },
            "type": "scatterpolar"
           }
          ],
          "scatterpolargl": [
           {
            "marker": {
             "colorbar": {
              "outlinewidth": 0,
              "ticks": ""
             }
            },
            "type": "scatterpolargl"
           }
          ],
          "scatterternary": [
           {
            "marker": {
             "colorbar": {
              "outlinewidth": 0,
              "ticks": ""
             }
            },
            "type": "scatterternary"
           }
          ],
          "surface": [
           {
            "colorbar": {
             "outlinewidth": 0,
             "ticks": ""
            },
            "colorscale": [
             [
              0,
              "#0d0887"
             ],
             [
              0.1111111111111111,
              "#46039f"
             ],
             [
              0.2222222222222222,
              "#7201a8"
             ],
             [
              0.3333333333333333,
              "#9c179e"
             ],
             [
              0.4444444444444444,
              "#bd3786"
             ],
             [
              0.5555555555555556,
              "#d8576b"
             ],
             [
              0.6666666666666666,
              "#ed7953"
             ],
             [
              0.7777777777777778,
              "#fb9f3a"
             ],
             [
              0.8888888888888888,
              "#fdca26"
             ],
             [
              1,
              "#f0f921"
             ]
            ],
            "type": "surface"
           }
          ],
          "table": [
           {
            "cells": {
             "fill": {
              "color": "#EBF0F8"
             },
             "line": {
              "color": "white"
             }
            },
            "header": {
             "fill": {
              "color": "#C8D4E3"
             },
             "line": {
              "color": "white"
             }
            },
            "type": "table"
           }
          ]
         },
         "layout": {
          "annotationdefaults": {
           "arrowcolor": "#2a3f5f",
           "arrowhead": 0,
           "arrowwidth": 1
          },
          "autotypenumbers": "strict",
          "coloraxis": {
           "colorbar": {
            "outlinewidth": 0,
            "ticks": ""
           }
          },
          "colorscale": {
           "diverging": [
            [
             0,
             "#8e0152"
            ],
            [
             0.1,
             "#c51b7d"
            ],
            [
             0.2,
             "#de77ae"
            ],
            [
             0.3,
             "#f1b6da"
            ],
            [
             0.4,
             "#fde0ef"
            ],
            [
             0.5,
             "#f7f7f7"
            ],
            [
             0.6,
             "#e6f5d0"
            ],
            [
             0.7,
             "#b8e186"
            ],
            [
             0.8,
             "#7fbc41"
            ],
            [
             0.9,
             "#4d9221"
            ],
            [
             1,
             "#276419"
            ]
           ],
           "sequential": [
            [
             0,
             "#0d0887"
            ],
            [
             0.1111111111111111,
             "#46039f"
            ],
            [
             0.2222222222222222,
             "#7201a8"
            ],
            [
             0.3333333333333333,
             "#9c179e"
            ],
            [
             0.4444444444444444,
             "#bd3786"
            ],
            [
             0.5555555555555556,
             "#d8576b"
            ],
            [
             0.6666666666666666,
             "#ed7953"
            ],
            [
             0.7777777777777778,
             "#fb9f3a"
            ],
            [
             0.8888888888888888,
             "#fdca26"
            ],
            [
             1,
             "#f0f921"
            ]
           ],
           "sequentialminus": [
            [
             0,
             "#0d0887"
            ],
            [
             0.1111111111111111,
             "#46039f"
            ],
            [
             0.2222222222222222,
             "#7201a8"
            ],
            [
             0.3333333333333333,
             "#9c179e"
            ],
            [
             0.4444444444444444,
             "#bd3786"
            ],
            [
             0.5555555555555556,
             "#d8576b"
            ],
            [
             0.6666666666666666,
             "#ed7953"
            ],
            [
             0.7777777777777778,
             "#fb9f3a"
            ],
            [
             0.8888888888888888,
             "#fdca26"
            ],
            [
             1,
             "#f0f921"
            ]
           ]
          },
          "colorway": [
           "#636efa",
           "#EF553B",
           "#00cc96",
           "#ab63fa",
           "#FFA15A",
           "#19d3f3",
           "#FF6692",
           "#B6E880",
           "#FF97FF",
           "#FECB52"
          ],
          "font": {
           "color": "#2a3f5f"
          },
          "geo": {
           "bgcolor": "white",
           "lakecolor": "white",
           "landcolor": "#E5ECF6",
           "showlakes": true,
           "showland": true,
           "subunitcolor": "white"
          },
          "hoverlabel": {
           "align": "left"
          },
          "hovermode": "closest",
          "mapbox": {
           "style": "light"
          },
          "paper_bgcolor": "white",
          "plot_bgcolor": "#E5ECF6",
          "polar": {
           "angularaxis": {
            "gridcolor": "white",
            "linecolor": "white",
            "ticks": ""
           },
           "bgcolor": "#E5ECF6",
           "radialaxis": {
            "gridcolor": "white",
            "linecolor": "white",
            "ticks": ""
           }
          },
          "scene": {
           "xaxis": {
            "backgroundcolor": "#E5ECF6",
            "gridcolor": "white",
            "gridwidth": 2,
            "linecolor": "white",
            "showbackground": true,
            "ticks": "",
            "zerolinecolor": "white"
           },
           "yaxis": {
            "backgroundcolor": "#E5ECF6",
            "gridcolor": "white",
            "gridwidth": 2,
            "linecolor": "white",
            "showbackground": true,
            "ticks": "",
            "zerolinecolor": "white"
           },
           "zaxis": {
            "backgroundcolor": "#E5ECF6",
            "gridcolor": "white",
            "gridwidth": 2,
            "linecolor": "white",
            "showbackground": true,
            "ticks": "",
            "zerolinecolor": "white"
           }
          },
          "shapedefaults": {
           "line": {
            "color": "#2a3f5f"
           }
          },
          "ternary": {
           "aaxis": {
            "gridcolor": "white",
            "linecolor": "white",
            "ticks": ""
           },
           "baxis": {
            "gridcolor": "white",
            "linecolor": "white",
            "ticks": ""
           },
           "bgcolor": "#E5ECF6",
           "caxis": {
            "gridcolor": "white",
            "linecolor": "white",
            "ticks": ""
           }
          },
          "title": {
           "x": 0.05
          },
          "xaxis": {
           "automargin": true,
           "gridcolor": "white",
           "linecolor": "white",
           "ticks": "",
           "title": {
            "standoff": 15
           },
           "zerolinecolor": "white",
           "zerolinewidth": 2
          },
          "yaxis": {
           "automargin": true,
           "gridcolor": "white",
           "linecolor": "white",
           "ticks": "",
           "title": {
            "standoff": 15
           },
           "zerolinecolor": "white",
           "zerolinewidth": 2
          }
         }
        },
        "xaxis": {
         "anchor": "y",
         "autorange": true,
         "domain": [
          0,
          1
         ],
         "range": [
          -0.5,
          9.5
         ],
         "title": {
          "text": "Assignee"
         },
         "type": "category"
        },
        "yaxis": {
         "anchor": "x",
         "autorange": true,
         "domain": [
          0,
          1
         ],
         "range": [
          0,
          28.42105263157895
         ],
         "title": {
          "text": "count"
         },
         "type": "linear"
        }
       }
      },
      "image/png": "[encoded data removed]",
      "text/html": [
       "<div>                            <div id=\"60b4d1cd-939e-46c5-8fbd-48bd1743f21d\" class=\"plotly-graph-div\" style=\"height:525px; width:100%;\"></div>            <script type=\"text/javascript\">                require([\"plotly\"], function(Plotly) {                    window.PLOTLYENV=window.PLOTLYENV || {};                                    if (document.getElementById(\"60b4d1cd-939e-46c5-8fbd-48bd1743f21d\")) {                    Plotly.newPlot(                        \"60b4d1cd-939e-46c5-8fbd-48bd1743f21d\",                        [{\"alignmentgroup\":\"True\",\"hovertemplate\":\"Assignee=%{x}<br>count=%{y}<extra></extra>\",\"legendgroup\":\"\",\"marker\":{\"color\":\"#636efa\",\"pattern\":{\"shape\":\"\"}},\"name\":\"\",\"offsetgroup\":\"\",\"orientation\":\"v\",\"showlegend\":false,\"textposition\":\"auto\",\"x\":[null,null,\"wrobinson\",\"wrobinson\",\"wrobinson\",\"wrobinson\",\"wrobinson\",\"tjohnson1\",\"tjohnson1\",\"tjohnson1\",\"tjohnson1\",\"tjohnson1\",\"tjohnson1\",\"tjohnson1\",\"tjohnson1\",\"tjohnson1\",\"tjohnson1\",\"tjohnson1\",\"tjohnson1\",\"sshrivastava1\",\"sshrivastava1\",\"sshrivastava1\",\"sshrivastava1\",\"sshrivastava1\",\"sshrivastava1\",\"sshrivastava1\",\"sshrivastava1\",\"sshrivastava1\",\"sshrivastava1\",\"sshrivastava1\",\"sshrivastava1\",\"sshrivastava1\",\"sshrivastava1\",\"sshrivastava1\",\"sshrivastava1\",\"sshrivastava1\",\"sshrivastava1\",\"rmainville\",\"rmainville\",\"rmainville\",\"rmainville\",\"rmainville\",\"rmainville\",\"rmainville\",\"rmainville\",\"rmainville\",\"rmainville\",\"rmainville\",\"rmainville\",\"rmainville\",\"rmainville\",\"rmainville\",\"rmainville\",\"rmainville\",\"rmainville\",\"rmainville\",\"rmainville\",\"rmainville\",\"rmainville\",\"rmainville\",\"rmainville\",\"rmainville\",\"ppenumarthi\",\"ppenumarthi\",\"ppenumarthi\",\"ppenumarthi\",\"ppenumarthi\",\"ppenumarthi\",\"ppenumarthi\",\"ppenumarthi\",\"ppenumarthi\",\"ppenumarthi\",\"ppenumarthi\",\"ppenumarthi\",\"ppenumarthi\",\"ppenumarthi\",\"ppenumarthi\",\"ppenumarthi\",\"ppenumarthi\",\"ppenumarthi\",\"ppenumarthi\",\"ppenumarthi\",\"ppenumarthi\",\"ppenumarthi\",\"ppenumarthi\",\"ppenumarthi\",\"ppenumarthi\",\"ppenumarthi\",\"ppenumarthi\",\"mdaugherty\",\"mdaugherty\",\"mdaugherty\",\"mdaugherty\",\"mdaugherty\",\"mdaugherty\",\"mdaugherty\",\"mdaugherty\",\"krajah\",\"krajah\",\"krajah\",\"krajah\",\"krajah\",\"krajah\",\"krajah\",\"krajah\",\"jmohammed\",\"ehenderson3\",\"ehenderson3\",\"ehenderson3\",\"ehenderson3\",\"ehenderson3\",\"ehenderson3\",\"ehenderson3\",\"ehenderson3\",\"ehenderson3\",\"ehenderson3\",\"ehenderson3\",\"ehenderson3\",\"dle01\",\"dle01\",\"dle01\",\"dle01\",\"dle01\",\"dle01\",\"dle01\",\"dle01\",\"dle01\",\"dle01\",\"dle01\",\"dle01\",\"dle01\",\"dle01\",\"dle01\",\"dle01\",\"dle01\",\"dle01\",\"dle01\",\"dle01\",\"dle01\",\"dle01\",\"dle01\",\"dle01\",\"dle01\",\"dle01\",\"dle01\"],\"xaxis\":\"x\",\"y\":[1,1,1,1,1,1,1,1,1,1,1,1,1,1,1,1,1,1,1,1,1,1,1,1,1,1,1,1,1,1,1,1,1,1,1,1,1,1,1,1,1,1,1,1,1,1,1,1,1,1,1,1,1,1,1,1,1,1,1,1,1,1,1,1,1,1,1,1,1,1,1,1,1,1,1,1,1,1,1,1,1,1,1,1,1,1,1,1,1,1,1,1,1,1,1,1,1,1,1,1,1,1,1,1,1,1,1,1,1,1,1,1,1,1,1,1,1,1,1,1,1,1,1,1,1,1,1,1,1,1,1,1,1,1,1,1,1,1,1,1,1,1,1,1,1],\"yaxis\":\"y\",\"type\":\"bar\"}],                        {\"template\":{\"data\":{\"histogram2dcontour\":[{\"type\":\"histogram2dcontour\",\"colorbar\":{\"outlinewidth\":0,\"ticks\":\"\"},\"colorscale\":[[0.0,\"#0d0887\"],[0.1111111111111111,\"#46039f\"],[0.2222222222222222,\"#7201a8\"],[0.3333333333333333,\"#9c179e\"],[0.4444444444444444,\"#bd3786\"],[0.5555555555555556,\"#d8576b\"],[0.6666666666666666,\"#ed7953\"],[0.7777777777777778,\"#fb9f3a\"],[0.8888888888888888,\"#fdca26\"],[1.0,\"#f0f921\"]]}],\"choropleth\":[{\"type\":\"choropleth\",\"colorbar\":{\"outlinewidth\":0,\"ticks\":\"\"}}],\"histogram2d\":[{\"type\":\"histogram2d\",\"colorbar\":{\"outlinewidth\":0,\"ticks\":\"\"},\"colorscale\":[[0.0,\"#0d0887\"],[0.1111111111111111,\"#46039f\"],[0.2222222222222222,\"#7201a8\"],[0.3333333333333333,\"#9c179e\"],[0.4444444444444444,\"#bd3786\"],[0.5555555555555556,\"#d8576b\"],[0.6666666666666666,\"#ed7953\"],[0.7777777777777778,\"#fb9f3a\"],[0.8888888888888888,\"#fdca26\"],[1.0,\"#f0f921\"]]}],\"heatmap\":[{\"type\":\"heatmap\",\"colorbar\":{\"outlinewidth\":0,\"ticks\":\"\"},\"colorscale\":[[0.0,\"#0d0887\"],[0.1111111111111111,\"#46039f\"],[0.2222222222222222,\"#7201a8\"],[0.3333333333333333,\"#9c179e\"],[0.4444444444444444,\"#bd3786\"],[0.5555555555555556,\"#d8576b\"],[0.6666666666666666,\"#ed7953\"],[0.7777777777777778,\"#fb9f3a\"],[0.8888888888888888,\"#fdca26\"],[1.0,\"#f0f921\"]]}],\"heatmapgl\":[{\"type\":\"heatmapgl\",\"colorbar\":{\"outlinewidth\":0,\"ticks\":\"\"},\"colorscale\":[[0.0,\"#0d0887\"],[0.1111111111111111,\"#46039f\"],[0.2222222222222222,\"#7201a8\"],[0.3333333333333333,\"#9c179e\"],[0.4444444444444444,\"#bd3786\"],[0.5555555555555556,\"#d8576b\"],[0.6666666666666666,\"#ed7953\"],[0.7777777777777778,\"#fb9f3a\"],[0.8888888888888888,\"#fdca26\"],[1.0,\"#f0f921\"]]}],\"contourcarpet\":[{\"type\":\"contourcarpet\",\"colorbar\":{\"outlinewidth\":0,\"ticks\":\"\"}}],\"contour\":[{\"type\":\"contour\",\"colorbar\":{\"outlinewidth\":0,\"ticks\":\"\"},\"colorscale\":[[0.0,\"#0d0887\"],[0.1111111111111111,\"#46039f\"],[0.2222222222222222,\"#7201a8\"],[0.3333333333333333,\"#9c179e\"],[0.4444444444444444,\"#bd3786\"],[0.5555555555555556,\"#d8576b\"],[0.6666666666666666,\"#ed7953\"],[0.7777777777777778,\"#fb9f3a\"],[0.8888888888888888,\"#fdca26\"],[1.0,\"#f0f921\"]]}],\"surface\":[{\"type\":\"surface\",\"colorbar\":{\"outlinewidth\":0,\"ticks\":\"\"},\"colorscale\":[[0.0,\"#0d0887\"],[0.1111111111111111,\"#46039f\"],[0.2222222222222222,\"#7201a8\"],[0.3333333333333333,\"#9c179e\"],[0.4444444444444444,\"#bd3786\"],[0.5555555555555556,\"#d8576b\"],[0.6666666666666666,\"#ed7953\"],[0.7777777777777778,\"#fb9f3a\"],[0.8888888888888888,\"#fdca26\"],[1.0,\"#f0f921\"]]}],\"mesh3d\":[{\"type\":\"mesh3d\",\"colorbar\":{\"outlinewidth\":0,\"ticks\":\"\"}}],\"scatter\":[{\"fillpattern\":{\"fillmode\":\"overlay\",\"size\":10,\"solidity\":0.2},\"type\":\"scatter\"}],\"parcoords\":[{\"type\":\"parcoords\",\"line\":{\"colorbar\":{\"outlinewidth\":0,\"ticks\":\"\"}}}],\"scatterpolargl\":[{\"type\":\"scatterpolargl\",\"marker\":{\"colorbar\":{\"outlinewidth\":0,\"ticks\":\"\"}}}],\"bar\":[{\"error_x\":{\"color\":\"#2a3f5f\"},\"error_y\":{\"color\":\"#2a3f5f\"},\"marker\":{\"line\":{\"color\":\"#E5ECF6\",\"width\":0.5},\"pattern\":{\"fillmode\":\"overlay\",\"size\":10,\"solidity\":0.2}},\"type\":\"bar\"}],\"scattergeo\":[{\"type\":\"scattergeo\",\"marker\":{\"colorbar\":{\"outlinewidth\":0,\"ticks\":\"\"}}}],\"scatterpolar\":[{\"type\":\"scatterpolar\",\"marker\":{\"colorbar\":{\"outlinewidth\":0,\"ticks\":\"\"}}}],\"histogram\":[{\"marker\":{\"pattern\":{\"fillmode\":\"overlay\",\"size\":10,\"solidity\":0.2}},\"type\":\"histogram\"}],\"scattergl\":[{\"type\":\"scattergl\",\"marker\":{\"colorbar\":{\"outlinewidth\":0,\"ticks\":\"\"}}}],\"scatter3d\":[{\"type\":\"scatter3d\",\"line\":{\"colorbar\":{\"outlinewidth\":0,\"ticks\":\"\"}},\"marker\":{\"colorbar\":{\"outlinewidth\":0,\"ticks\":\"\"}}}],\"scattermapbox\":[{\"type\":\"scattermapbox\",\"marker\":{\"colorbar\":{\"outlinewidth\":0,\"ticks\":\"\"}}}],\"scatterternary\":[{\"type\":\"scatterternary\",\"marker\":{\"colorbar\":{\"outlinewidth\":0,\"ticks\":\"\"}}}],\"scattercarpet\":[{\"type\":\"scattercarpet\",\"marker\":{\"colorbar\":{\"outlinewidth\":0,\"ticks\":\"\"}}}],\"carpet\":[{\"aaxis\":{\"endlinecolor\":\"#2a3f5f\",\"gridcolor\":\"white\",\"linecolor\":\"white\",\"minorgridcolor\":\"white\",\"startlinecolor\":\"#2a3f5f\"},\"baxis\":{\"endlinecolor\":\"#2a3f5f\",\"gridcolor\":\"white\",\"linecolor\":\"white\",\"minorgridcolor\":\"white\",\"startlinecolor\":\"#2a3f5f\"},\"type\":\"carpet\"}],\"table\":[{\"cells\":{\"fill\":{\"color\":\"#EBF0F8\"},\"line\":{\"color\":\"white\"}},\"header\":{\"fill\":{\"color\":\"#C8D4E3\"},\"line\":{\"color\":\"white\"}},\"type\":\"table\"}],\"barpolar\":[{\"marker\":{\"line\":{\"color\":\"#E5ECF6\",\"width\":0.5},\"pattern\":{\"fillmode\":\"overlay\",\"size\":10,\"solidity\":0.2}},\"type\":\"barpolar\"}],\"pie\":[{\"automargin\":true,\"type\":\"pie\"}]},\"layout\":{\"autotypenumbers\":\"strict\",\"colorway\":[\"#636efa\",\"#EF553B\",\"#00cc96\",\"#ab63fa\",\"#FFA15A\",\"#19d3f3\",\"#FF6692\",\"#B6E880\",\"#FF97FF\",\"#FECB52\"],\"font\":{\"color\":\"#2a3f5f\"},\"hovermode\":\"closest\",\"hoverlabel\":{\"align\":\"left\"},\"paper_bgcolor\":\"white\",\"plot_bgcolor\":\"#E5ECF6\",\"polar\":{\"bgcolor\":\"#E5ECF6\",\"angularaxis\":{\"gridcolor\":\"white\",\"linecolor\":\"white\",\"ticks\":\"\"},\"radialaxis\":{\"gridcolor\":\"white\",\"linecolor\":\"white\",\"ticks\":\"\"}},\"ternary\":{\"bgcolor\":\"#E5ECF6\",\"aaxis\":{\"gridcolor\":\"white\",\"linecolor\":\"white\",\"ticks\":\"\"},\"baxis\":{\"gridcolor\":\"white\",\"linecolor\":\"white\",\"ticks\":\"\"},\"caxis\":{\"gridcolor\":\"white\",\"linecolor\":\"white\",\"ticks\":\"\"}},\"coloraxis\":{\"colorbar\":{\"outlinewidth\":0,\"ticks\":\"\"}},\"colorscale\":{\"sequential\":[[0.0,\"#0d0887\"],[0.1111111111111111,\"#46039f\"],[0.2222222222222222,\"#7201a8\"],[0.3333333333333333,\"#9c179e\"],[0.4444444444444444,\"#bd3786\"],[0.5555555555555556,\"#d8576b\"],[0.6666666666666666,\"#ed7953\"],[0.7777777777777778,\"#fb9f3a\"],[0.8888888888888888,\"#fdca26\"],[1.0,\"#f0f921\"]],\"sequentialminus\":[[0.0,\"#0d0887\"],[0.1111111111111111,\"#46039f\"],[0.2222222222222222,\"#7201a8\"],[0.3333333333333333,\"#9c179e\"],[0.4444444444444444,\"#bd3786\"],[0.5555555555555556,\"#d8576b\"],[0.6666666666666666,\"#ed7953\"],[0.7777777777777778,\"#fb9f3a\"],[0.8888888888888888,\"#fdca26\"],[1.0,\"#f0f921\"]],\"diverging\":[[0,\"#8e0152\"],[0.1,\"#c51b7d\"],[0.2,\"#de77ae\"],[0.3,\"#f1b6da\"],[0.4,\"#fde0ef\"],[0.5,\"#f7f7f7\"],[0.6,\"#e6f5d0\"],[0.7,\"#b8e186\"],[0.8,\"#7fbc41\"],[0.9,\"#4d9221\"],[1,\"#276419\"]]},\"xaxis\":{\"gridcolor\":\"white\",\"linecolor\":\"white\",\"ticks\":\"\",\"title\":{\"standoff\":15},\"zerolinecolor\":\"white\",\"automargin\":true,\"zerolinewidth\":2},\"yaxis\":{\"gridcolor\":\"white\",\"linecolor\":\"white\",\"ticks\":\"\",\"title\":{\"standoff\":15},\"zerolinecolor\":\"white\",\"automargin\":true,\"zerolinewidth\":2},\"scene\":{\"xaxis\":{\"backgroundcolor\":\"#E5ECF6\",\"gridcolor\":\"white\",\"linecolor\":\"white\",\"showbackground\":true,\"ticks\":\"\",\"zerolinecolor\":\"white\",\"gridwidth\":2},\"yaxis\":{\"backgroundcolor\":\"#E5ECF6\",\"gridcolor\":\"white\",\"linecolor\":\"white\",\"showbackground\":true,\"ticks\":\"\",\"zerolinecolor\":\"white\",\"gridwidth\":2},\"zaxis\":{\"backgroundcolor\":\"#E5ECF6\",\"gridcolor\":\"white\",\"linecolor\":\"white\",\"showbackground\":true,\"ticks\":\"\",\"zerolinecolor\":\"white\",\"gridwidth\":2}},\"shapedefaults\":{\"line\":{\"color\":\"#2a3f5f\"}},\"annotationdefaults\":{\"arrowcolor\":\"#2a3f5f\",\"arrowhead\":0,\"arrowwidth\":1},\"geo\":{\"bgcolor\":\"white\",\"landcolor\":\"#E5ECF6\",\"subunitcolor\":\"white\",\"showland\":true,\"showlakes\":true,\"lakecolor\":\"white\"},\"title\":{\"x\":0.05},\"mapbox\":{\"style\":\"light\"}}},\"xaxis\":{\"anchor\":\"y\",\"domain\":[0.0,1.0],\"title\":{\"text\":\"Assignee\"}},\"yaxis\":{\"anchor\":\"x\",\"domain\":[0.0,1.0],\"title\":{\"text\":\"count\"}},\"legend\":{\"tracegroupgap\":0},\"margin\":{\"t\":60},\"barmode\":\"relative\"},                        {\"responsive\": true}                    ).then(function(){\n",
       "                            \n",
       "var gd = document.getElementById('60b4d1cd-939e-46c5-8fbd-48bd1743f21d');\n",
       "var x = new MutationObserver(function (mutations, observer) {{\n",
       "        var display = window.getComputedStyle(gd).display;\n",
       "        if (!display || display === 'none') {{\n",
       "            console.log([gd, 'removed!']);\n",
       "            Plotly.purge(gd);\n",
       "            observer.disconnect();\n",
       "        }}\n",
       "}});\n",
       "\n",
       "// Listen for the removal of the full notebook cells\n",
       "var notebookContainer = gd.closest('#notebook-container');\n",
       "if (notebookContainer) {{\n",
       "    x.observe(notebookContainer, {childList: true});\n",
       "}}\n",
       "\n",
       "// Listen for the clearing of the current output cell\n",
       "var outputEl = gd.closest('.output');\n",
       "if (outputEl) {{\n",
       "    x.observe(outputEl, {childList: true});\n",
       "}}\n",
       "\n",
       "                        })                };                });            </script>        </div>"
      ]
     },
     "metadata": {},
     "output_type": "display_data"
    }
   ],
   "source": [
    "assignee_plot = px.bar(octResolvedIssues, x='Assignee')\n",
    "assignee_plot.show()"
   ]
  },
  {
   "cell_type": "code",
   "execution_count": null,
   "id": "638c7680-ea7d-42d1-ba5d-df7ccf718765",
   "metadata": {},
   "outputs": [],
   "source": []
  }
 ],
 "metadata": {
  "kernelspec": {
   "display_name": "Python 3 (ipykernel)",
   "language": "python",
   "name": "python3"
  },
  "language_info": {
   "codemirror_mode": {
    "name": "ipython",
    "version": 3
   },
   "file_extension": ".py",
   "mimetype": "text/x-python",
   "name": "python",
   "nbconvert_exporter": "python",
   "pygments_lexer": "ipython3",
   "version": "3.11.4"
  }
 },
 "nbformat": 4,
 "nbformat_minor": 5
}

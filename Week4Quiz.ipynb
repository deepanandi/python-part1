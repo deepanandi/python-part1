{
 "cells": [
  {
   "cell_type": "code",
   "execution_count": 1,
   "id": "d9538a9a-2ba0-4e36-8679-980cf778891e",
   "metadata": {
    "tags": []
   },
   "outputs": [],
   "source": [
    "import numpy as np\n",
    "import pandas as pd\n",
    "import matplotlib.pyplot as plt\n",
    "import seaborn as sns\n",
    "\n",
    "pd.set_option('display.float_format', lambda x: '%.3f' % x)"
   ]
  },
  {
   "cell_type": "code",
   "execution_count": null,
   "id": "df0447e1-dd95-4b7a-a4e6-7bad847b0ee7",
   "metadata": {},
   "outputs": [],
   "source": [
    "data = pd.read_csv('/Users/dnandi/Documents/pythoncourseexamples/datacsvs/Melbourne_Housing.csv', na_values)"
   ]
  },
  {
   "cell_type": "code",
   "execution_count": null,
   "id": "d4fa364d-5d2c-4f0b-be48-1b35025612e2",
   "metadata": {},
   "outputs": [],
   "source": []
  }
 ],
 "metadata": {
  "kernelspec": {
   "display_name": "Python 3 (ipykernel)",
   "language": "python",
   "name": "python3"
  },
  "language_info": {
   "codemirror_mode": {
    "name": "ipython",
    "version": 3
   },
   "file_extension": ".py",
   "mimetype": "text/x-python",
   "name": "python",
   "nbconvert_exporter": "python",
   "pygments_lexer": "ipython3",
   "version": "3.11.4"
  }
 },
 "nbformat": 4,
 "nbformat_minor": 5
}
